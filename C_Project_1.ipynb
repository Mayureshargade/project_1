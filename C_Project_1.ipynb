{
 "cells": [
  {
   "cell_type": "markdown",
   "id": "128cc773",
   "metadata": {},
   "source": [
    "## Predicting online shopper's (customers) purchasing intension using machine learning\n",
    "\n"
   ]
  },
  {
   "cell_type": "markdown",
   "id": "4368983a",
   "metadata": {},
   "source": [
    "## Problem Statement:\n",
    "\n",
    "Predict if a customers purchasing or not when they visit an online shopping site ."
   ]
  },
  {
   "cell_type": "markdown",
   "id": "1621f14d",
   "metadata": {},
   "source": [
    "### Aim of the project:\n",
    "\n",
    "To build a machine learning model based on this information to predict customers purchasing intension. and to find which ML model is best for this dataset"
   ]
  },
  {
   "cell_type": "markdown",
   "id": "958dbf94",
   "metadata": {},
   "source": [
    "### Scope of the project:\n",
    "\n",
    "The scope of this project is only limited to predicting customers purchase intension and evaluating and measuring the accuracy of these predictions"
   ]
  },
  {
   "cell_type": "markdown",
   "id": "d6b74f1a",
   "metadata": {},
   "source": [
    "## Features:\n",
    "\n",
    "The numeric variables are:\n",
    "<ul>\n",
    "<li> Administrative : Number of pages visited by the visitor about account management </li>\n",
    "\n",
    "<li> Administrative Duration : Total amount of time (in seconds) spent by the visitor on account management related pages</li> \n",
    "\n",
    "<li>Informational : Number of pages visited by the visitor about Web site, communication and address information of the shopping\n",
    "site </li>\n",
    "\n",
    "<li>Informational Duration : Total amount of time (in seconds) spent by the visitor on informational pages </li>\n",
    "\n",
    "<li>Product Related : Number of pages visited by visitor about product related pages </li>\n",
    "\n",
    "<li>Product-Related Duration : Total amount of time (in seconds) spent by the visitor on product related pages </li>\n",
    "\n",
    "<li>Bounce Rate : Average bounce rate value of the pages visited by the visitor</li> \n",
    "\n",
    "<li>Exit Rate : Average exit rate value of the pages visited by the visitor </li>\n",
    "\n",
    "<li>Page Value : Average page value of the pages visited by the visitor</li> \n",
    "\n",
    "<li>Special Day : Closeness of the site visiting time to a special day</li>\n",
    "</ul>"
   ]
  },
  {
   "cell_type": "markdown",
   "id": "408af6c2",
   "metadata": {},
   "source": [
    "The categorical variables are: \n",
    "<ul>\n",
    "<li>Operating system : Operating system of the visitor </li>\n",
    "\n",
    "<li>Browser : Browser of the visitor </li>\n",
    "\n",
    "<li>Region : Geographic region from which the session has been started by the visitor</li>\n",
    "\n",
    "<li>Traffic type : Traffic source by which the visitor has arrived at the Web site (e.g., banner, SMS, direct)</li>\n",
    "\n",
    "<li>Visitor type : Whether the visitor is a New Visitor, a Returning Visitor or Other</li>\n",
    "\n",
    "<li>Weekend : Whether the date of the visit is weekend </li>\n",
    "\n",
    "<li>Month : Month of the visit </li>\n",
    "\n",
    "<li>Revenue : Whether the visit has been finalized with a transaction. </li>\n",
    "     In Revenue TRUE means that the visitor made a purchase, FALSE indicates no purchase was made\n",
    "    \n",
    "</ul>\n"
   ]
  },
  {
   "cell_type": "markdown",
   "id": "b77acd27",
   "metadata": {},
   "source": [
    "### importing all the tools"
   ]
  },
  {
   "cell_type": "code",
   "execution_count": 1,
   "id": "2faf7498",
   "metadata": {},
   "outputs": [],
   "source": [
    "import numpy as np\n",
    "import pandas as pd\n",
    "import matplotlib.pyplot as plt\n",
    "import seaborn as sns\n",
    "\n",
    "## models from sklearn \n",
    "from sklearn.linear_model import LogisticRegression\n",
    "from sklearn.tree import DecisionTreeClassifier\n",
    "from sklearn.ensemble import RandomForestClassifier\n",
    "\n",
    "## model Evaluation\n",
    "from sklearn.model_selection import train_test_split , cross_val_score\n",
    "from sklearn.model_selection import GridSearchCV\n",
    "from sklearn.metrics import confusion_matrix ,ConfusionMatrixDisplay, classification_report\n",
    "from sklearn.metrics import accuracy_score, recall_score, precision_score, f1_score\n",
    "from sklearn.feature_selection import RFE\n",
    "\n",
    "import warnings\n",
    "warnings.filterwarnings('ignore')"
   ]
  },
  {
   "cell_type": "code",
   "execution_count": 2,
   "id": "55e73284",
   "metadata": {},
   "outputs": [],
   "source": [
    "data=pd.read_csv(r\"C:\\Users\\Priya\\OneDrive\\Desktop\\Python imarticus data files\\online_shoppers_intention.csv\")"
   ]
  },
  {
   "cell_type": "code",
   "execution_count": 3,
   "id": "2cddfed7",
   "metadata": {},
   "outputs": [
    {
     "data": {
      "text/html": [
       "<div>\n",
       "<style scoped>\n",
       "    .dataframe tbody tr th:only-of-type {\n",
       "        vertical-align: middle;\n",
       "    }\n",
       "\n",
       "    .dataframe tbody tr th {\n",
       "        vertical-align: top;\n",
       "    }\n",
       "\n",
       "    .dataframe thead th {\n",
       "        text-align: right;\n",
       "    }\n",
       "</style>\n",
       "<table border=\"1\" class=\"dataframe\">\n",
       "  <thead>\n",
       "    <tr style=\"text-align: right;\">\n",
       "      <th></th>\n",
       "      <th>Administrative</th>\n",
       "      <th>Administrative_Duration</th>\n",
       "      <th>Informational</th>\n",
       "      <th>Informational_Duration</th>\n",
       "      <th>ProductRelated</th>\n",
       "      <th>ProductRelated_Duration</th>\n",
       "      <th>BounceRates</th>\n",
       "      <th>ExitRates</th>\n",
       "      <th>PageValues</th>\n",
       "      <th>SpecialDay</th>\n",
       "      <th>Month</th>\n",
       "      <th>OperatingSystems</th>\n",
       "      <th>Browser</th>\n",
       "      <th>Region</th>\n",
       "      <th>TrafficType</th>\n",
       "      <th>VisitorType</th>\n",
       "      <th>Weekend</th>\n",
       "      <th>Revenue</th>\n",
       "    </tr>\n",
       "  </thead>\n",
       "  <tbody>\n",
       "    <tr>\n",
       "      <th>0</th>\n",
       "      <td>0</td>\n",
       "      <td>0.0</td>\n",
       "      <td>0</td>\n",
       "      <td>0.0</td>\n",
       "      <td>1</td>\n",
       "      <td>0.000000</td>\n",
       "      <td>0.20</td>\n",
       "      <td>0.20</td>\n",
       "      <td>0.0</td>\n",
       "      <td>0.0</td>\n",
       "      <td>Feb</td>\n",
       "      <td>1</td>\n",
       "      <td>1</td>\n",
       "      <td>1</td>\n",
       "      <td>1</td>\n",
       "      <td>Returning_Visitor</td>\n",
       "      <td>False</td>\n",
       "      <td>False</td>\n",
       "    </tr>\n",
       "    <tr>\n",
       "      <th>1</th>\n",
       "      <td>0</td>\n",
       "      <td>0.0</td>\n",
       "      <td>0</td>\n",
       "      <td>0.0</td>\n",
       "      <td>2</td>\n",
       "      <td>64.000000</td>\n",
       "      <td>0.00</td>\n",
       "      <td>0.10</td>\n",
       "      <td>0.0</td>\n",
       "      <td>0.0</td>\n",
       "      <td>Feb</td>\n",
       "      <td>2</td>\n",
       "      <td>2</td>\n",
       "      <td>1</td>\n",
       "      <td>2</td>\n",
       "      <td>Returning_Visitor</td>\n",
       "      <td>False</td>\n",
       "      <td>False</td>\n",
       "    </tr>\n",
       "    <tr>\n",
       "      <th>2</th>\n",
       "      <td>0</td>\n",
       "      <td>0.0</td>\n",
       "      <td>0</td>\n",
       "      <td>0.0</td>\n",
       "      <td>1</td>\n",
       "      <td>0.000000</td>\n",
       "      <td>0.20</td>\n",
       "      <td>0.20</td>\n",
       "      <td>0.0</td>\n",
       "      <td>0.0</td>\n",
       "      <td>Feb</td>\n",
       "      <td>4</td>\n",
       "      <td>1</td>\n",
       "      <td>9</td>\n",
       "      <td>3</td>\n",
       "      <td>Returning_Visitor</td>\n",
       "      <td>False</td>\n",
       "      <td>False</td>\n",
       "    </tr>\n",
       "    <tr>\n",
       "      <th>3</th>\n",
       "      <td>0</td>\n",
       "      <td>0.0</td>\n",
       "      <td>0</td>\n",
       "      <td>0.0</td>\n",
       "      <td>2</td>\n",
       "      <td>2.666667</td>\n",
       "      <td>0.05</td>\n",
       "      <td>0.14</td>\n",
       "      <td>0.0</td>\n",
       "      <td>0.0</td>\n",
       "      <td>Feb</td>\n",
       "      <td>3</td>\n",
       "      <td>2</td>\n",
       "      <td>2</td>\n",
       "      <td>4</td>\n",
       "      <td>Returning_Visitor</td>\n",
       "      <td>False</td>\n",
       "      <td>False</td>\n",
       "    </tr>\n",
       "    <tr>\n",
       "      <th>4</th>\n",
       "      <td>0</td>\n",
       "      <td>0.0</td>\n",
       "      <td>0</td>\n",
       "      <td>0.0</td>\n",
       "      <td>10</td>\n",
       "      <td>627.500000</td>\n",
       "      <td>0.02</td>\n",
       "      <td>0.05</td>\n",
       "      <td>0.0</td>\n",
       "      <td>0.0</td>\n",
       "      <td>Feb</td>\n",
       "      <td>3</td>\n",
       "      <td>3</td>\n",
       "      <td>1</td>\n",
       "      <td>4</td>\n",
       "      <td>Returning_Visitor</td>\n",
       "      <td>True</td>\n",
       "      <td>False</td>\n",
       "    </tr>\n",
       "  </tbody>\n",
       "</table>\n",
       "</div>"
      ],
      "text/plain": [
       "   Administrative  Administrative_Duration  Informational  \\\n",
       "0               0                      0.0              0   \n",
       "1               0                      0.0              0   \n",
       "2               0                      0.0              0   \n",
       "3               0                      0.0              0   \n",
       "4               0                      0.0              0   \n",
       "\n",
       "   Informational_Duration  ProductRelated  ProductRelated_Duration  \\\n",
       "0                     0.0               1                 0.000000   \n",
       "1                     0.0               2                64.000000   \n",
       "2                     0.0               1                 0.000000   \n",
       "3                     0.0               2                 2.666667   \n",
       "4                     0.0              10               627.500000   \n",
       "\n",
       "   BounceRates  ExitRates  PageValues  SpecialDay Month  OperatingSystems  \\\n",
       "0         0.20       0.20         0.0         0.0   Feb                 1   \n",
       "1         0.00       0.10         0.0         0.0   Feb                 2   \n",
       "2         0.20       0.20         0.0         0.0   Feb                 4   \n",
       "3         0.05       0.14         0.0         0.0   Feb                 3   \n",
       "4         0.02       0.05         0.0         0.0   Feb                 3   \n",
       "\n",
       "   Browser  Region  TrafficType        VisitorType  Weekend  Revenue  \n",
       "0        1       1            1  Returning_Visitor    False    False  \n",
       "1        2       1            2  Returning_Visitor    False    False  \n",
       "2        1       9            3  Returning_Visitor    False    False  \n",
       "3        2       2            4  Returning_Visitor    False    False  \n",
       "4        3       1            4  Returning_Visitor     True    False  "
      ]
     },
     "execution_count": 3,
     "metadata": {},
     "output_type": "execute_result"
    }
   ],
   "source": [
    "data.head()"
   ]
  },
  {
   "cell_type": "code",
   "execution_count": 4,
   "id": "70198a53",
   "metadata": {},
   "outputs": [
    {
     "data": {
      "text/plain": [
       "(12330, 18)"
      ]
     },
     "execution_count": 4,
     "metadata": {},
     "output_type": "execute_result"
    }
   ],
   "source": [
    "data.shape"
   ]
  },
  {
   "cell_type": "code",
   "execution_count": 5,
   "id": "d96ce262",
   "metadata": {},
   "outputs": [
    {
     "data": {
      "text/plain": [
       "Series([], dtype: int64)"
      ]
     },
     "execution_count": 5,
     "metadata": {},
     "output_type": "execute_result"
    }
   ],
   "source": [
    "# checking if the data contains any NULL values\n",
    "\n",
    "data.isnull().sum()[data.isnull().sum() > 0]"
   ]
  },
  {
   "cell_type": "code",
   "execution_count": 6,
   "id": "d6572730",
   "metadata": {},
   "outputs": [
    {
     "name": "stdout",
     "output_type": "stream",
     "text": [
      "<class 'pandas.core.frame.DataFrame'>\n",
      "RangeIndex: 12330 entries, 0 to 12329\n",
      "Data columns (total 18 columns):\n",
      " #   Column                   Non-Null Count  Dtype  \n",
      "---  ------                   --------------  -----  \n",
      " 0   Administrative           12330 non-null  int64  \n",
      " 1   Administrative_Duration  12330 non-null  float64\n",
      " 2   Informational            12330 non-null  int64  \n",
      " 3   Informational_Duration   12330 non-null  float64\n",
      " 4   ProductRelated           12330 non-null  int64  \n",
      " 5   ProductRelated_Duration  12330 non-null  float64\n",
      " 6   BounceRates              12330 non-null  float64\n",
      " 7   ExitRates                12330 non-null  float64\n",
      " 8   PageValues               12330 non-null  float64\n",
      " 9   SpecialDay               12330 non-null  float64\n",
      " 10  Month                    12330 non-null  object \n",
      " 11  OperatingSystems         12330 non-null  int64  \n",
      " 12  Browser                  12330 non-null  int64  \n",
      " 13  Region                   12330 non-null  int64  \n",
      " 14  TrafficType              12330 non-null  int64  \n",
      " 15  VisitorType              12330 non-null  object \n",
      " 16  Weekend                  12330 non-null  bool   \n",
      " 17  Revenue                  12330 non-null  bool   \n",
      "dtypes: bool(2), float64(7), int64(7), object(2)\n",
      "memory usage: 1.5+ MB\n"
     ]
    }
   ],
   "source": [
    "data.info()"
   ]
  },
  {
   "cell_type": "code",
   "execution_count": 7,
   "id": "0b7ccd7c",
   "metadata": {},
   "outputs": [
    {
     "data": {
      "text/html": [
       "<div>\n",
       "<style scoped>\n",
       "    .dataframe tbody tr th:only-of-type {\n",
       "        vertical-align: middle;\n",
       "    }\n",
       "\n",
       "    .dataframe tbody tr th {\n",
       "        vertical-align: top;\n",
       "    }\n",
       "\n",
       "    .dataframe thead th {\n",
       "        text-align: right;\n",
       "    }\n",
       "</style>\n",
       "<table border=\"1\" class=\"dataframe\">\n",
       "  <thead>\n",
       "    <tr style=\"text-align: right;\">\n",
       "      <th></th>\n",
       "      <th>Administrative</th>\n",
       "      <th>Administrative_Duration</th>\n",
       "      <th>Informational</th>\n",
       "      <th>Informational_Duration</th>\n",
       "      <th>ProductRelated</th>\n",
       "      <th>ProductRelated_Duration</th>\n",
       "      <th>BounceRates</th>\n",
       "      <th>ExitRates</th>\n",
       "      <th>PageValues</th>\n",
       "      <th>SpecialDay</th>\n",
       "      <th>OperatingSystems</th>\n",
       "      <th>Browser</th>\n",
       "      <th>Region</th>\n",
       "      <th>TrafficType</th>\n",
       "    </tr>\n",
       "  </thead>\n",
       "  <tbody>\n",
       "    <tr>\n",
       "      <th>count</th>\n",
       "      <td>12330.000000</td>\n",
       "      <td>12330.000000</td>\n",
       "      <td>12330.000000</td>\n",
       "      <td>12330.000000</td>\n",
       "      <td>12330.000000</td>\n",
       "      <td>12330.000000</td>\n",
       "      <td>12330.000000</td>\n",
       "      <td>12330.000000</td>\n",
       "      <td>12330.000000</td>\n",
       "      <td>12330.000000</td>\n",
       "      <td>12330.000000</td>\n",
       "      <td>12330.000000</td>\n",
       "      <td>12330.000000</td>\n",
       "      <td>12330.000000</td>\n",
       "    </tr>\n",
       "    <tr>\n",
       "      <th>mean</th>\n",
       "      <td>2.315166</td>\n",
       "      <td>80.818611</td>\n",
       "      <td>0.503569</td>\n",
       "      <td>34.472398</td>\n",
       "      <td>31.731468</td>\n",
       "      <td>1194.746220</td>\n",
       "      <td>0.022191</td>\n",
       "      <td>0.043073</td>\n",
       "      <td>5.889258</td>\n",
       "      <td>0.061427</td>\n",
       "      <td>2.124006</td>\n",
       "      <td>2.357097</td>\n",
       "      <td>3.147364</td>\n",
       "      <td>4.069586</td>\n",
       "    </tr>\n",
       "    <tr>\n",
       "      <th>std</th>\n",
       "      <td>3.321784</td>\n",
       "      <td>176.779107</td>\n",
       "      <td>1.270156</td>\n",
       "      <td>140.749294</td>\n",
       "      <td>44.475503</td>\n",
       "      <td>1913.669288</td>\n",
       "      <td>0.048488</td>\n",
       "      <td>0.048597</td>\n",
       "      <td>18.568437</td>\n",
       "      <td>0.198917</td>\n",
       "      <td>0.911325</td>\n",
       "      <td>1.717277</td>\n",
       "      <td>2.401591</td>\n",
       "      <td>4.025169</td>\n",
       "    </tr>\n",
       "    <tr>\n",
       "      <th>min</th>\n",
       "      <td>0.000000</td>\n",
       "      <td>0.000000</td>\n",
       "      <td>0.000000</td>\n",
       "      <td>0.000000</td>\n",
       "      <td>0.000000</td>\n",
       "      <td>0.000000</td>\n",
       "      <td>0.000000</td>\n",
       "      <td>0.000000</td>\n",
       "      <td>0.000000</td>\n",
       "      <td>0.000000</td>\n",
       "      <td>1.000000</td>\n",
       "      <td>1.000000</td>\n",
       "      <td>1.000000</td>\n",
       "      <td>1.000000</td>\n",
       "    </tr>\n",
       "    <tr>\n",
       "      <th>25%</th>\n",
       "      <td>0.000000</td>\n",
       "      <td>0.000000</td>\n",
       "      <td>0.000000</td>\n",
       "      <td>0.000000</td>\n",
       "      <td>7.000000</td>\n",
       "      <td>184.137500</td>\n",
       "      <td>0.000000</td>\n",
       "      <td>0.014286</td>\n",
       "      <td>0.000000</td>\n",
       "      <td>0.000000</td>\n",
       "      <td>2.000000</td>\n",
       "      <td>2.000000</td>\n",
       "      <td>1.000000</td>\n",
       "      <td>2.000000</td>\n",
       "    </tr>\n",
       "    <tr>\n",
       "      <th>50%</th>\n",
       "      <td>1.000000</td>\n",
       "      <td>7.500000</td>\n",
       "      <td>0.000000</td>\n",
       "      <td>0.000000</td>\n",
       "      <td>18.000000</td>\n",
       "      <td>598.936905</td>\n",
       "      <td>0.003112</td>\n",
       "      <td>0.025156</td>\n",
       "      <td>0.000000</td>\n",
       "      <td>0.000000</td>\n",
       "      <td>2.000000</td>\n",
       "      <td>2.000000</td>\n",
       "      <td>3.000000</td>\n",
       "      <td>2.000000</td>\n",
       "    </tr>\n",
       "    <tr>\n",
       "      <th>75%</th>\n",
       "      <td>4.000000</td>\n",
       "      <td>93.256250</td>\n",
       "      <td>0.000000</td>\n",
       "      <td>0.000000</td>\n",
       "      <td>38.000000</td>\n",
       "      <td>1464.157214</td>\n",
       "      <td>0.016813</td>\n",
       "      <td>0.050000</td>\n",
       "      <td>0.000000</td>\n",
       "      <td>0.000000</td>\n",
       "      <td>3.000000</td>\n",
       "      <td>2.000000</td>\n",
       "      <td>4.000000</td>\n",
       "      <td>4.000000</td>\n",
       "    </tr>\n",
       "    <tr>\n",
       "      <th>max</th>\n",
       "      <td>27.000000</td>\n",
       "      <td>3398.750000</td>\n",
       "      <td>24.000000</td>\n",
       "      <td>2549.375000</td>\n",
       "      <td>705.000000</td>\n",
       "      <td>63973.522230</td>\n",
       "      <td>0.200000</td>\n",
       "      <td>0.200000</td>\n",
       "      <td>361.763742</td>\n",
       "      <td>1.000000</td>\n",
       "      <td>8.000000</td>\n",
       "      <td>13.000000</td>\n",
       "      <td>9.000000</td>\n",
       "      <td>20.000000</td>\n",
       "    </tr>\n",
       "  </tbody>\n",
       "</table>\n",
       "</div>"
      ],
      "text/plain": [
       "       Administrative  Administrative_Duration  Informational  \\\n",
       "count    12330.000000             12330.000000   12330.000000   \n",
       "mean         2.315166                80.818611       0.503569   \n",
       "std          3.321784               176.779107       1.270156   \n",
       "min          0.000000                 0.000000       0.000000   \n",
       "25%          0.000000                 0.000000       0.000000   \n",
       "50%          1.000000                 7.500000       0.000000   \n",
       "75%          4.000000                93.256250       0.000000   \n",
       "max         27.000000              3398.750000      24.000000   \n",
       "\n",
       "       Informational_Duration  ProductRelated  ProductRelated_Duration  \\\n",
       "count            12330.000000    12330.000000             12330.000000   \n",
       "mean                34.472398       31.731468              1194.746220   \n",
       "std                140.749294       44.475503              1913.669288   \n",
       "min                  0.000000        0.000000                 0.000000   \n",
       "25%                  0.000000        7.000000               184.137500   \n",
       "50%                  0.000000       18.000000               598.936905   \n",
       "75%                  0.000000       38.000000              1464.157214   \n",
       "max               2549.375000      705.000000             63973.522230   \n",
       "\n",
       "        BounceRates     ExitRates    PageValues    SpecialDay  \\\n",
       "count  12330.000000  12330.000000  12330.000000  12330.000000   \n",
       "mean       0.022191      0.043073      5.889258      0.061427   \n",
       "std        0.048488      0.048597     18.568437      0.198917   \n",
       "min        0.000000      0.000000      0.000000      0.000000   \n",
       "25%        0.000000      0.014286      0.000000      0.000000   \n",
       "50%        0.003112      0.025156      0.000000      0.000000   \n",
       "75%        0.016813      0.050000      0.000000      0.000000   \n",
       "max        0.200000      0.200000    361.763742      1.000000   \n",
       "\n",
       "       OperatingSystems       Browser        Region   TrafficType  \n",
       "count      12330.000000  12330.000000  12330.000000  12330.000000  \n",
       "mean           2.124006      2.357097      3.147364      4.069586  \n",
       "std            0.911325      1.717277      2.401591      4.025169  \n",
       "min            1.000000      1.000000      1.000000      1.000000  \n",
       "25%            2.000000      2.000000      1.000000      2.000000  \n",
       "50%            2.000000      2.000000      3.000000      2.000000  \n",
       "75%            3.000000      2.000000      4.000000      4.000000  \n",
       "max            8.000000     13.000000      9.000000     20.000000  "
      ]
     },
     "execution_count": 7,
     "metadata": {},
     "output_type": "execute_result"
    }
   ],
   "source": [
    "## describe() shows a range of different metrics about your numerical columns such as mean, max and standard deviation.\n",
    "data.describe()"
   ]
  },
  {
   "cell_type": "markdown",
   "id": "b2f349f4",
   "metadata": {},
   "source": [
    "## Exploratory Data Analysis (EDA)"
   ]
  },
  {
   "cell_type": "code",
   "execution_count": 8,
   "id": "6636f679",
   "metadata": {},
   "outputs": [
    {
     "data": {
      "text/plain": [
       "False    10422\n",
       "True      1908\n",
       "Name: Revenue, dtype: int64"
      ]
     },
     "execution_count": 8,
     "metadata": {},
     "output_type": "execute_result"
    }
   ],
   "source": [
    "data['Revenue'].value_counts()"
   ]
  },
  {
   "cell_type": "code",
   "execution_count": 94,
   "id": "5f939db3",
   "metadata": {},
   "outputs": [
    {
     "data": {
      "text/plain": [
       "Text(0, 0.5, 'count')"
      ]
     },
     "execution_count": 94,
     "metadata": {},
     "output_type": "execute_result"
    },
    {
     "data": {
      "image/png": "[encoded data removed]",
      "text/plain": [
       "<Figure size 504x360 with 1 Axes>"
      ]
     },
     "metadata": {
      "needs_background": "light"
     },
     "output_type": "display_data"
    }
   ],
   "source": [
    "plt.figure(figsize = (7,5))\n",
    "sns.countplot(data['Revenue']);\n",
    "plt.title('Purchase or Not', fontsize = 15)\n",
    "plt.xlabel('Revenue', fontsize = 15)\n",
    "plt.ylabel('count', fontsize = 15)"
   ]
  },
  {
   "cell_type": "markdown",
   "id": "a99d47d6",
   "metadata": {},
   "source": [
    "In the variable revenue, TRUE means that the visitor made a purchase, FALSE indicates no purchase was made.There is a significant data imbalance between the two results of our target variable. "
   ]
  },
  {
   "cell_type": "code",
   "execution_count": 96,
   "id": "16afd995",
   "metadata": {},
   "outputs": [
    {
     "data": {
      "image/png": "[encoded data removed]",
      "text/plain": [
       "<Figure size 504x360 with 1 Axes>"
      ]
     },
     "metadata": {
      "needs_background": "light"
     },
     "output_type": "display_data"
    }
   ],
   "source": [
    "plt.figure(figsize = (7,5))\n",
    "sns.countplot(data['Weekend'], palette = 'inferno')\n",
    "plt.title('Purchase on Weekends', fontsize = 30)\n",
    "plt.xlabel('Weekend or not', fontsize = 15)\n",
    "plt.ylabel('count', fontsize = 15)\n",
    "plt.show()"
   ]
  },
  {
   "cell_type": "markdown",
   "id": "eb2b1e82",
   "metadata": {},
   "source": [
    "<li>From the above information we see that the distribution of  Weekend data are hightly imbalanced.</li>"
   ]
  },
  {
   "cell_type": "code",
   "execution_count": 18,
   "id": "40a98bc0",
   "metadata": {},
   "outputs": [
    {
     "data": {
      "image/png": "[encoded data removed]",
      "text/plain": [
       "<Figure size 576x432 with 1 Axes>"
      ]
     },
     "metadata": {
      "needs_background": "light"
     },
     "output_type": "display_data"
    }
   ],
   "source": [
    "# weekend vs Revenue\n",
    "\n",
    "df = pd.crosstab(data['Weekend'], data['Revenue'])\n",
    "df.plot(kind = 'bar',stacked = True, figsize =(8,6), color  = ['lightblue', 'black'])\n",
    "plt.title('Weekend vs Revenue(False = Not_purchase , True = Purchase)', fontsize = 12)\n",
    "plt.show()"
   ]
  },
  {
   "cell_type": "markdown",
   "id": "d968dbc2",
   "metadata": {},
   "source": [
    "<li>here both columns are categorical.</li>\n",
    "<li> when there is no weekend then Purchasing quantity is more. </li>"
   ]
  },
  {
   "cell_type": "code",
   "execution_count": 20,
   "id": "b0d96f8f",
   "metadata": {},
   "outputs": [
    {
     "data": {
      "image/png": "[encoded data removed]",
      "text/plain": [
       "<Figure size 720x360 with 1 Axes>"
      ]
     },
     "metadata": {
      "needs_background": "light"
     },
     "output_type": "display_data"
    }
   ],
   "source": [
    "# visitor type vs revenue\n",
    "df = pd.crosstab(data['VisitorType'], data['Revenue'])\n",
    "df.plot(kind = 'bar',stacked = True, figsize = (10, 5), color = ['lightgreen', 'green'])\n",
    "plt.title('Visitor Type vs Revenue', fontsize = 15)\n",
    "plt.show()"
   ]
  },
  {
   "cell_type": "markdown",
   "id": "e5e8ae6c",
   "metadata": {},
   "source": [
    "<li>We see here Visitor Type is also a categorical column.</li>\n",
    "<li>In this visualization, every category is different than others. Returning_Visitors are highly influenced to buy a product.</li>"
   ]
  },
  {
   "cell_type": "code",
   "execution_count": 21,
   "id": "a7c92e4d",
   "metadata": {},
   "outputs": [
    {
     "data": {
      "image/png": "[encoded data removed]",
      "text/plain": [
       "<Figure size 576x360 with 1 Axes>"
      ]
     },
     "metadata": {
      "needs_background": "light"
     },
     "output_type": "display_data"
    }
   ],
   "source": [
    "# Region vs revenue\n",
    "df = pd.crosstab(data['Region'], data['Revenue'])\n",
    "df.plot(kind = 'bar', stacked = True, figsize = (8, 5), color = ['maroon', 'green'])\n",
    "plt.title('Visitor Type vs Revenue(False = Not_purchase , True = Purchase)', fontsize = 12)\n",
    "plt.show()"
   ]
  },
  {
   "cell_type": "code",
   "execution_count": 22,
   "id": "557b243d",
   "metadata": {},
   "outputs": [
    {
     "data": {
      "text/html": [
       "<div>\n",
       "<style scoped>\n",
       "    .dataframe tbody tr th:only-of-type {\n",
       "        vertical-align: middle;\n",
       "    }\n",
       "\n",
       "    .dataframe tbody tr th {\n",
       "        vertical-align: top;\n",
       "    }\n",
       "\n",
       "    .dataframe thead th {\n",
       "        text-align: right;\n",
       "    }\n",
       "</style>\n",
       "<table border=\"1\" class=\"dataframe\">\n",
       "  <thead>\n",
       "    <tr style=\"text-align: right;\">\n",
       "      <th></th>\n",
       "      <th>Administrative</th>\n",
       "      <th>Administrative_Duration</th>\n",
       "      <th>Informational</th>\n",
       "      <th>Informational_Duration</th>\n",
       "      <th>ProductRelated</th>\n",
       "      <th>ProductRelated_Duration</th>\n",
       "      <th>BounceRates</th>\n",
       "      <th>ExitRates</th>\n",
       "      <th>PageValues</th>\n",
       "      <th>SpecialDay</th>\n",
       "      <th>OperatingSystems</th>\n",
       "      <th>Browser</th>\n",
       "      <th>Region</th>\n",
       "      <th>TrafficType</th>\n",
       "      <th>Weekend</th>\n",
       "      <th>Revenue</th>\n",
       "    </tr>\n",
       "  </thead>\n",
       "  <tbody>\n",
       "    <tr>\n",
       "      <th>Administrative</th>\n",
       "      <td>1.000000</td>\n",
       "      <td>0.601583</td>\n",
       "      <td>0.376850</td>\n",
       "      <td>0.255848</td>\n",
       "      <td>0.431119</td>\n",
       "      <td>0.373939</td>\n",
       "      <td>-0.223563</td>\n",
       "      <td>-0.316483</td>\n",
       "      <td>0.098990</td>\n",
       "      <td>-0.094778</td>\n",
       "      <td>-0.006347</td>\n",
       "      <td>-0.025035</td>\n",
       "      <td>-0.005487</td>\n",
       "      <td>-0.033561</td>\n",
       "      <td>0.026417</td>\n",
       "      <td>0.138917</td>\n",
       "    </tr>\n",
       "    <tr>\n",
       "      <th>Administrative_Duration</th>\n",
       "      <td>0.601583</td>\n",
       "      <td>1.000000</td>\n",
       "      <td>0.302710</td>\n",
       "      <td>0.238031</td>\n",
       "      <td>0.289087</td>\n",
       "      <td>0.355422</td>\n",
       "      <td>-0.144170</td>\n",
       "      <td>-0.205798</td>\n",
       "      <td>0.067608</td>\n",
       "      <td>-0.073304</td>\n",
       "      <td>-0.007343</td>\n",
       "      <td>-0.015392</td>\n",
       "      <td>-0.005561</td>\n",
       "      <td>-0.014376</td>\n",
       "      <td>0.014990</td>\n",
       "      <td>0.093587</td>\n",
       "    </tr>\n",
       "    <tr>\n",
       "      <th>Informational</th>\n",
       "      <td>0.376850</td>\n",
       "      <td>0.302710</td>\n",
       "      <td>1.000000</td>\n",
       "      <td>0.618955</td>\n",
       "      <td>0.374164</td>\n",
       "      <td>0.387505</td>\n",
       "      <td>-0.116114</td>\n",
       "      <td>-0.163666</td>\n",
       "      <td>0.048632</td>\n",
       "      <td>-0.048219</td>\n",
       "      <td>-0.009527</td>\n",
       "      <td>-0.038235</td>\n",
       "      <td>-0.029169</td>\n",
       "      <td>-0.034491</td>\n",
       "      <td>0.035785</td>\n",
       "      <td>0.095200</td>\n",
       "    </tr>\n",
       "    <tr>\n",
       "      <th>Informational_Duration</th>\n",
       "      <td>0.255848</td>\n",
       "      <td>0.238031</td>\n",
       "      <td>0.618955</td>\n",
       "      <td>1.000000</td>\n",
       "      <td>0.280046</td>\n",
       "      <td>0.347364</td>\n",
       "      <td>-0.074067</td>\n",
       "      <td>-0.105276</td>\n",
       "      <td>0.030861</td>\n",
       "      <td>-0.030577</td>\n",
       "      <td>-0.009579</td>\n",
       "      <td>-0.019285</td>\n",
       "      <td>-0.027144</td>\n",
       "      <td>-0.024675</td>\n",
       "      <td>0.024078</td>\n",
       "      <td>0.070345</td>\n",
       "    </tr>\n",
       "    <tr>\n",
       "      <th>ProductRelated</th>\n",
       "      <td>0.431119</td>\n",
       "      <td>0.289087</td>\n",
       "      <td>0.374164</td>\n",
       "      <td>0.280046</td>\n",
       "      <td>1.000000</td>\n",
       "      <td>0.860927</td>\n",
       "      <td>-0.204578</td>\n",
       "      <td>-0.292526</td>\n",
       "      <td>0.056282</td>\n",
       "      <td>-0.023958</td>\n",
       "      <td>0.004290</td>\n",
       "      <td>-0.013146</td>\n",
       "      <td>-0.038122</td>\n",
       "      <td>-0.043064</td>\n",
       "      <td>0.016092</td>\n",
       "      <td>0.158538</td>\n",
       "    </tr>\n",
       "    <tr>\n",
       "      <th>ProductRelated_Duration</th>\n",
       "      <td>0.373939</td>\n",
       "      <td>0.355422</td>\n",
       "      <td>0.387505</td>\n",
       "      <td>0.347364</td>\n",
       "      <td>0.860927</td>\n",
       "      <td>1.000000</td>\n",
       "      <td>-0.184541</td>\n",
       "      <td>-0.251984</td>\n",
       "      <td>0.052823</td>\n",
       "      <td>-0.036380</td>\n",
       "      <td>0.002976</td>\n",
       "      <td>-0.007380</td>\n",
       "      <td>-0.033091</td>\n",
       "      <td>-0.036377</td>\n",
       "      <td>0.007311</td>\n",
       "      <td>0.152373</td>\n",
       "    </tr>\n",
       "    <tr>\n",
       "      <th>BounceRates</th>\n",
       "      <td>-0.223563</td>\n",
       "      <td>-0.144170</td>\n",
       "      <td>-0.116114</td>\n",
       "      <td>-0.074067</td>\n",
       "      <td>-0.204578</td>\n",
       "      <td>-0.184541</td>\n",
       "      <td>1.000000</td>\n",
       "      <td>0.913004</td>\n",
       "      <td>-0.119386</td>\n",
       "      <td>0.072702</td>\n",
       "      <td>0.023823</td>\n",
       "      <td>-0.015772</td>\n",
       "      <td>-0.006485</td>\n",
       "      <td>0.078286</td>\n",
       "      <td>-0.046514</td>\n",
       "      <td>-0.150673</td>\n",
       "    </tr>\n",
       "    <tr>\n",
       "      <th>ExitRates</th>\n",
       "      <td>-0.316483</td>\n",
       "      <td>-0.205798</td>\n",
       "      <td>-0.163666</td>\n",
       "      <td>-0.105276</td>\n",
       "      <td>-0.292526</td>\n",
       "      <td>-0.251984</td>\n",
       "      <td>0.913004</td>\n",
       "      <td>1.000000</td>\n",
       "      <td>-0.174498</td>\n",
       "      <td>0.102242</td>\n",
       "      <td>0.014567</td>\n",
       "      <td>-0.004442</td>\n",
       "      <td>-0.008907</td>\n",
       "      <td>0.078616</td>\n",
       "      <td>-0.062587</td>\n",
       "      <td>-0.207071</td>\n",
       "    </tr>\n",
       "    <tr>\n",
       "      <th>PageValues</th>\n",
       "      <td>0.098990</td>\n",
       "      <td>0.067608</td>\n",
       "      <td>0.048632</td>\n",
       "      <td>0.030861</td>\n",
       "      <td>0.056282</td>\n",
       "      <td>0.052823</td>\n",
       "      <td>-0.119386</td>\n",
       "      <td>-0.174498</td>\n",
       "      <td>1.000000</td>\n",
       "      <td>-0.063541</td>\n",
       "      <td>0.018508</td>\n",
       "      <td>0.045592</td>\n",
       "      <td>0.011315</td>\n",
       "      <td>0.012532</td>\n",
       "      <td>0.012002</td>\n",
       "      <td>0.492569</td>\n",
       "    </tr>\n",
       "    <tr>\n",
       "      <th>SpecialDay</th>\n",
       "      <td>-0.094778</td>\n",
       "      <td>-0.073304</td>\n",
       "      <td>-0.048219</td>\n",
       "      <td>-0.030577</td>\n",
       "      <td>-0.023958</td>\n",
       "      <td>-0.036380</td>\n",
       "      <td>0.072702</td>\n",
       "      <td>0.102242</td>\n",
       "      <td>-0.063541</td>\n",
       "      <td>1.000000</td>\n",
       "      <td>0.012652</td>\n",
       "      <td>0.003499</td>\n",
       "      <td>-0.016098</td>\n",
       "      <td>0.052301</td>\n",
       "      <td>-0.016767</td>\n",
       "      <td>-0.082305</td>\n",
       "    </tr>\n",
       "    <tr>\n",
       "      <th>OperatingSystems</th>\n",
       "      <td>-0.006347</td>\n",
       "      <td>-0.007343</td>\n",
       "      <td>-0.009527</td>\n",
       "      <td>-0.009579</td>\n",
       "      <td>0.004290</td>\n",
       "      <td>0.002976</td>\n",
       "      <td>0.023823</td>\n",
       "      <td>0.014567</td>\n",
       "      <td>0.018508</td>\n",
       "      <td>0.012652</td>\n",
       "      <td>1.000000</td>\n",
       "      <td>0.223013</td>\n",
       "      <td>0.076775</td>\n",
       "      <td>0.189154</td>\n",
       "      <td>0.000284</td>\n",
       "      <td>-0.014668</td>\n",
       "    </tr>\n",
       "    <tr>\n",
       "      <th>Browser</th>\n",
       "      <td>-0.025035</td>\n",
       "      <td>-0.015392</td>\n",
       "      <td>-0.038235</td>\n",
       "      <td>-0.019285</td>\n",
       "      <td>-0.013146</td>\n",
       "      <td>-0.007380</td>\n",
       "      <td>-0.015772</td>\n",
       "      <td>-0.004442</td>\n",
       "      <td>0.045592</td>\n",
       "      <td>0.003499</td>\n",
       "      <td>0.223013</td>\n",
       "      <td>1.000000</td>\n",
       "      <td>0.097393</td>\n",
       "      <td>0.111938</td>\n",
       "      <td>-0.040261</td>\n",
       "      <td>0.023984</td>\n",
       "    </tr>\n",
       "    <tr>\n",
       "      <th>Region</th>\n",
       "      <td>-0.005487</td>\n",
       "      <td>-0.005561</td>\n",
       "      <td>-0.029169</td>\n",
       "      <td>-0.027144</td>\n",
       "      <td>-0.038122</td>\n",
       "      <td>-0.033091</td>\n",
       "      <td>-0.006485</td>\n",
       "      <td>-0.008907</td>\n",
       "      <td>0.011315</td>\n",
       "      <td>-0.016098</td>\n",
       "      <td>0.076775</td>\n",
       "      <td>0.097393</td>\n",
       "      <td>1.000000</td>\n",
       "      <td>0.047520</td>\n",
       "      <td>-0.000691</td>\n",
       "      <td>-0.011595</td>\n",
       "    </tr>\n",
       "    <tr>\n",
       "      <th>TrafficType</th>\n",
       "      <td>-0.033561</td>\n",
       "      <td>-0.014376</td>\n",
       "      <td>-0.034491</td>\n",
       "      <td>-0.024675</td>\n",
       "      <td>-0.043064</td>\n",
       "      <td>-0.036377</td>\n",
       "      <td>0.078286</td>\n",
       "      <td>0.078616</td>\n",
       "      <td>0.012532</td>\n",
       "      <td>0.052301</td>\n",
       "      <td>0.189154</td>\n",
       "      <td>0.111938</td>\n",
       "      <td>0.047520</td>\n",
       "      <td>1.000000</td>\n",
       "      <td>-0.002221</td>\n",
       "      <td>-0.005113</td>\n",
       "    </tr>\n",
       "    <tr>\n",
       "      <th>Weekend</th>\n",
       "      <td>0.026417</td>\n",
       "      <td>0.014990</td>\n",
       "      <td>0.035785</td>\n",
       "      <td>0.024078</td>\n",
       "      <td>0.016092</td>\n",
       "      <td>0.007311</td>\n",
       "      <td>-0.046514</td>\n",
       "      <td>-0.062587</td>\n",
       "      <td>0.012002</td>\n",
       "      <td>-0.016767</td>\n",
       "      <td>0.000284</td>\n",
       "      <td>-0.040261</td>\n",
       "      <td>-0.000691</td>\n",
       "      <td>-0.002221</td>\n",
       "      <td>1.000000</td>\n",
       "      <td>0.029295</td>\n",
       "    </tr>\n",
       "    <tr>\n",
       "      <th>Revenue</th>\n",
       "      <td>0.138917</td>\n",
       "      <td>0.093587</td>\n",
       "      <td>0.095200</td>\n",
       "      <td>0.070345</td>\n",
       "      <td>0.158538</td>\n",
       "      <td>0.152373</td>\n",
       "      <td>-0.150673</td>\n",
       "      <td>-0.207071</td>\n",
       "      <td>0.492569</td>\n",
       "      <td>-0.082305</td>\n",
       "      <td>-0.014668</td>\n",
       "      <td>0.023984</td>\n",
       "      <td>-0.011595</td>\n",
       "      <td>-0.005113</td>\n",
       "      <td>0.029295</td>\n",
       "      <td>1.000000</td>\n",
       "    </tr>\n",
       "  </tbody>\n",
       "</table>\n",
       "</div>"
      ],
      "text/plain": [
       "                         Administrative  Administrative_Duration  \\\n",
       "Administrative                 1.000000                 0.601583   \n",
       "Administrative_Duration        0.601583                 1.000000   \n",
       "Informational                  0.376850                 0.302710   \n",
       "Informational_Duration         0.255848                 0.238031   \n",
       "ProductRelated                 0.431119                 0.289087   \n",
       "ProductRelated_Duration        0.373939                 0.355422   \n",
       "BounceRates                   -0.223563                -0.144170   \n",
       "ExitRates                     -0.316483                -0.205798   \n",
       "PageValues                     0.098990                 0.067608   \n",
       "SpecialDay                    -0.094778                -0.073304   \n",
       "OperatingSystems              -0.006347                -0.007343   \n",
       "Browser                       -0.025035                -0.015392   \n",
       "Region                        -0.005487                -0.005561   \n",
       "TrafficType                   -0.033561                -0.014376   \n",
       "Weekend                        0.026417                 0.014990   \n",
       "Revenue                        0.138917                 0.093587   \n",
       "\n",
       "                         Informational  Informational_Duration  \\\n",
       "Administrative                0.376850                0.255848   \n",
       "Administrative_Duration       0.302710                0.238031   \n",
       "Informational                 1.000000                0.618955   \n",
       "Informational_Duration        0.618955                1.000000   \n",
       "ProductRelated                0.374164                0.280046   \n",
       "ProductRelated_Duration       0.387505                0.347364   \n",
       "BounceRates                  -0.116114               -0.074067   \n",
       "ExitRates                    -0.163666               -0.105276   \n",
       "PageValues                    0.048632                0.030861   \n",
       "SpecialDay                   -0.048219               -0.030577   \n",
       "OperatingSystems             -0.009527               -0.009579   \n",
       "Browser                      -0.038235               -0.019285   \n",
       "Region                       -0.029169               -0.027144   \n",
       "TrafficType                  -0.034491               -0.024675   \n",
       "Weekend                       0.035785                0.024078   \n",
       "Revenue                       0.095200                0.070345   \n",
       "\n",
       "                         ProductRelated  ProductRelated_Duration  BounceRates  \\\n",
       "Administrative                 0.431119                 0.373939    -0.223563   \n",
       "Administrative_Duration        0.289087                 0.355422    -0.144170   \n",
       "Informational                  0.374164                 0.387505    -0.116114   \n",
       "Informational_Duration         0.280046                 0.347364    -0.074067   \n",
       "ProductRelated                 1.000000                 0.860927    -0.204578   \n",
       "ProductRelated_Duration        0.860927                 1.000000    -0.184541   \n",
       "BounceRates                   -0.204578                -0.184541     1.000000   \n",
       "ExitRates                     -0.292526                -0.251984     0.913004   \n",
       "PageValues                     0.056282                 0.052823    -0.119386   \n",
       "SpecialDay                    -0.023958                -0.036380     0.072702   \n",
       "OperatingSystems               0.004290                 0.002976     0.023823   \n",
       "Browser                       -0.013146                -0.007380    -0.015772   \n",
       "Region                        -0.038122                -0.033091    -0.006485   \n",
       "TrafficType                   -0.043064                -0.036377     0.078286   \n",
       "Weekend                        0.016092                 0.007311    -0.046514   \n",
       "Revenue                        0.158538                 0.152373    -0.150673   \n",
       "\n",
       "                         ExitRates  PageValues  SpecialDay  OperatingSystems  \\\n",
       "Administrative           -0.316483    0.098990   -0.094778         -0.006347   \n",
       "Administrative_Duration  -0.205798    0.067608   -0.073304         -0.007343   \n",
       "Informational            -0.163666    0.048632   -0.048219         -0.009527   \n",
       "Informational_Duration   -0.105276    0.030861   -0.030577         -0.009579   \n",
       "ProductRelated           -0.292526    0.056282   -0.023958          0.004290   \n",
       "ProductRelated_Duration  -0.251984    0.052823   -0.036380          0.002976   \n",
       "BounceRates               0.913004   -0.119386    0.072702          0.023823   \n",
       "ExitRates                 1.000000   -0.174498    0.102242          0.014567   \n",
       "PageValues               -0.174498    1.000000   -0.063541          0.018508   \n",
       "SpecialDay                0.102242   -0.063541    1.000000          0.012652   \n",
       "OperatingSystems          0.014567    0.018508    0.012652          1.000000   \n",
       "Browser                  -0.004442    0.045592    0.003499          0.223013   \n",
       "Region                   -0.008907    0.011315   -0.016098          0.076775   \n",
       "TrafficType               0.078616    0.012532    0.052301          0.189154   \n",
       "Weekend                  -0.062587    0.012002   -0.016767          0.000284   \n",
       "Revenue                  -0.207071    0.492569   -0.082305         -0.014668   \n",
       "\n",
       "                          Browser    Region  TrafficType   Weekend   Revenue  \n",
       "Administrative          -0.025035 -0.005487    -0.033561  0.026417  0.138917  \n",
       "Administrative_Duration -0.015392 -0.005561    -0.014376  0.014990  0.093587  \n",
       "Informational           -0.038235 -0.029169    -0.034491  0.035785  0.095200  \n",
       "Informational_Duration  -0.019285 -0.027144    -0.024675  0.024078  0.070345  \n",
       "ProductRelated          -0.013146 -0.038122    -0.043064  0.016092  0.158538  \n",
       "ProductRelated_Duration -0.007380 -0.033091    -0.036377  0.007311  0.152373  \n",
       "BounceRates             -0.015772 -0.006485     0.078286 -0.046514 -0.150673  \n",
       "ExitRates               -0.004442 -0.008907     0.078616 -0.062587 -0.207071  \n",
       "PageValues               0.045592  0.011315     0.012532  0.012002  0.492569  \n",
       "SpecialDay               0.003499 -0.016098     0.052301 -0.016767 -0.082305  \n",
       "OperatingSystems         0.223013  0.076775     0.189154  0.000284 -0.014668  \n",
       "Browser                  1.000000  0.097393     0.111938 -0.040261  0.023984  \n",
       "Region                   0.097393  1.000000     0.047520 -0.000691 -0.011595  \n",
       "TrafficType              0.111938  0.047520     1.000000 -0.002221 -0.005113  \n",
       "Weekend                 -0.040261 -0.000691    -0.002221  1.000000  0.029295  \n",
       "Revenue                  0.023984 -0.011595    -0.005113  0.029295  1.000000  "
      ]
     },
     "execution_count": 22,
     "metadata": {},
     "output_type": "execute_result"
    }
   ],
   "source": [
    "data.corr()"
   ]
  },
  {
   "cell_type": "code",
   "execution_count": 23,
   "id": "954d4243",
   "metadata": {},
   "outputs": [
    {
     "data": {
      "image/png": "[encoded data removed]",
      "text/plain": [
       "<Figure size 1152x864 with 2 Axes>"
      ]
     },
     "metadata": {
      "needs_background": "light"
     },
     "output_type": "display_data"
    }
   ],
   "source": [
    "plt.figure(figsize=(16,12))\n",
    "sns.heatmap(data.corr(),annot=True, cmap =\"PuRd\"); "
   ]
  },
  {
   "cell_type": "code",
   "execution_count": 88,
   "id": "b4219516",
   "metadata": {},
   "outputs": [
    {
     "data": {
      "text/html": [
       "<div>\n",
       "<style scoped>\n",
       "    .dataframe tbody tr th:only-of-type {\n",
       "        vertical-align: middle;\n",
       "    }\n",
       "\n",
       "    .dataframe tbody tr th {\n",
       "        vertical-align: top;\n",
       "    }\n",
       "\n",
       "    .dataframe thead th {\n",
       "        text-align: right;\n",
       "    }\n",
       "</style>\n",
       "<table border=\"1\" class=\"dataframe\">\n",
       "  <thead>\n",
       "    <tr style=\"text-align: right;\">\n",
       "      <th></th>\n",
       "      <th>colname</th>\n",
       "      <th>corr</th>\n",
       "    </tr>\n",
       "  </thead>\n",
       "  <tbody>\n",
       "    <tr>\n",
       "      <th>17</th>\n",
       "      <td>Revenue</td>\n",
       "      <td>1.000000</td>\n",
       "    </tr>\n",
       "    <tr>\n",
       "      <th>8</th>\n",
       "      <td>PageValues</td>\n",
       "      <td>0.492569</td>\n",
       "    </tr>\n",
       "    <tr>\n",
       "      <th>4</th>\n",
       "      <td>ProductRelated</td>\n",
       "      <td>0.158538</td>\n",
       "    </tr>\n",
       "    <tr>\n",
       "      <th>5</th>\n",
       "      <td>ProductRelated_Duration</td>\n",
       "      <td>0.152373</td>\n",
       "    </tr>\n",
       "    <tr>\n",
       "      <th>0</th>\n",
       "      <td>Administrative</td>\n",
       "      <td>0.138917</td>\n",
       "    </tr>\n",
       "    <tr>\n",
       "      <th>10</th>\n",
       "      <td>Month</td>\n",
       "      <td>0.138719</td>\n",
       "    </tr>\n",
       "    <tr>\n",
       "      <th>2</th>\n",
       "      <td>Informational</td>\n",
       "      <td>0.095200</td>\n",
       "    </tr>\n",
       "    <tr>\n",
       "      <th>1</th>\n",
       "      <td>Administrative_Duration</td>\n",
       "      <td>0.093587</td>\n",
       "    </tr>\n",
       "    <tr>\n",
       "      <th>3</th>\n",
       "      <td>Informational_Duration</td>\n",
       "      <td>0.070345</td>\n",
       "    </tr>\n",
       "    <tr>\n",
       "      <th>16</th>\n",
       "      <td>Weekend</td>\n",
       "      <td>0.029295</td>\n",
       "    </tr>\n",
       "    <tr>\n",
       "      <th>12</th>\n",
       "      <td>Browser</td>\n",
       "      <td>0.023984</td>\n",
       "    </tr>\n",
       "    <tr>\n",
       "      <th>14</th>\n",
       "      <td>TrafficType</td>\n",
       "      <td>-0.005113</td>\n",
       "    </tr>\n",
       "    <tr>\n",
       "      <th>13</th>\n",
       "      <td>Region</td>\n",
       "      <td>-0.011595</td>\n",
       "    </tr>\n",
       "    <tr>\n",
       "      <th>11</th>\n",
       "      <td>OperatingSystems</td>\n",
       "      <td>-0.014668</td>\n",
       "    </tr>\n",
       "    <tr>\n",
       "      <th>9</th>\n",
       "      <td>SpecialDay</td>\n",
       "      <td>-0.082305</td>\n",
       "    </tr>\n",
       "    <tr>\n",
       "      <th>15</th>\n",
       "      <td>VisitorType</td>\n",
       "      <td>-0.098485</td>\n",
       "    </tr>\n",
       "    <tr>\n",
       "      <th>6</th>\n",
       "      <td>BounceRates</td>\n",
       "      <td>-0.150673</td>\n",
       "    </tr>\n",
       "    <tr>\n",
       "      <th>7</th>\n",
       "      <td>ExitRates</td>\n",
       "      <td>-0.207071</td>\n",
       "    </tr>\n",
       "  </tbody>\n",
       "</table>\n",
       "</div>"
      ],
      "text/plain": [
       "                    colname      corr\n",
       "17                  Revenue  1.000000\n",
       "8                PageValues  0.492569\n",
       "4            ProductRelated  0.158538\n",
       "5   ProductRelated_Duration  0.152373\n",
       "0            Administrative  0.138917\n",
       "10                    Month  0.138719\n",
       "2             Informational  0.095200\n",
       "1   Administrative_Duration  0.093587\n",
       "3    Informational_Duration  0.070345\n",
       "16                  Weekend  0.029295\n",
       "12                  Browser  0.023984\n",
       "14              TrafficType -0.005113\n",
       "13                   Region -0.011595\n",
       "11         OperatingSystems -0.014668\n",
       "9                SpecialDay -0.082305\n",
       "15              VisitorType -0.098485\n",
       "6               BounceRates -0.150673\n",
       "7                 ExitRates -0.207071"
      ]
     },
     "execution_count": 88,
     "metadata": {},
     "output_type": "execute_result"
    }
   ],
   "source": [
    "corr_list=[]\n",
    "for i in data.columns:\n",
    "    corr_list.append(data[i].corr(data.Revenue))\n",
    "corr_df=pd.DataFrame()\n",
    "corr_df['colname']=data.columns\n",
    "corr_df['corr']=corr_list\n",
    "corr_df.sort_values('corr',ascending=False)"
   ]
  },
  {
   "cell_type": "code",
   "execution_count": null,
   "id": "3f0377f3",
   "metadata": {},
   "outputs": [],
   "source": []
  },
  {
   "cell_type": "code",
   "execution_count": null,
   "id": "400a8806",
   "metadata": {},
   "outputs": [],
   "source": []
  },
  {
   "cell_type": "markdown",
   "id": "80a612f6",
   "metadata": {},
   "source": [
    "### A higher positive value means a positive correlation (increase) and a higher negative value meand a negative correlation (decrease)"
   ]
  },
  {
   "cell_type": "markdown",
   "id": "a377ddb4",
   "metadata": {},
   "source": [
    "# Modelling"
   ]
  },
  {
   "cell_type": "markdown",
   "id": "81b5ade5",
   "metadata": {},
   "source": [
    "### Data preprocessing :"
   ]
  },
  {
   "cell_type": "code",
   "execution_count": 24,
   "id": "4f3ebebb",
   "metadata": {},
   "outputs": [
    {
     "data": {
      "text/html": [
       "<div>\n",
       "<style scoped>\n",
       "    .dataframe tbody tr th:only-of-type {\n",
       "        vertical-align: middle;\n",
       "    }\n",
       "\n",
       "    .dataframe tbody tr th {\n",
       "        vertical-align: top;\n",
       "    }\n",
       "\n",
       "    .dataframe thead th {\n",
       "        text-align: right;\n",
       "    }\n",
       "</style>\n",
       "<table border=\"1\" class=\"dataframe\">\n",
       "  <thead>\n",
       "    <tr style=\"text-align: right;\">\n",
       "      <th></th>\n",
       "      <th>Administrative</th>\n",
       "      <th>Administrative_Duration</th>\n",
       "      <th>Informational</th>\n",
       "      <th>Informational_Duration</th>\n",
       "      <th>ProductRelated</th>\n",
       "      <th>ProductRelated_Duration</th>\n",
       "      <th>BounceRates</th>\n",
       "      <th>ExitRates</th>\n",
       "      <th>PageValues</th>\n",
       "      <th>SpecialDay</th>\n",
       "      <th>Month</th>\n",
       "      <th>OperatingSystems</th>\n",
       "      <th>Browser</th>\n",
       "      <th>Region</th>\n",
       "      <th>TrafficType</th>\n",
       "      <th>VisitorType</th>\n",
       "      <th>Weekend</th>\n",
       "      <th>Revenue</th>\n",
       "    </tr>\n",
       "  </thead>\n",
       "  <tbody>\n",
       "    <tr>\n",
       "      <th>0</th>\n",
       "      <td>0</td>\n",
       "      <td>0.0</td>\n",
       "      <td>0</td>\n",
       "      <td>0.0</td>\n",
       "      <td>1</td>\n",
       "      <td>0.000000</td>\n",
       "      <td>0.20</td>\n",
       "      <td>0.20</td>\n",
       "      <td>0.0</td>\n",
       "      <td>0.0</td>\n",
       "      <td>Feb</td>\n",
       "      <td>1</td>\n",
       "      <td>1</td>\n",
       "      <td>1</td>\n",
       "      <td>1</td>\n",
       "      <td>Returning_Visitor</td>\n",
       "      <td>False</td>\n",
       "      <td>False</td>\n",
       "    </tr>\n",
       "    <tr>\n",
       "      <th>1</th>\n",
       "      <td>0</td>\n",
       "      <td>0.0</td>\n",
       "      <td>0</td>\n",
       "      <td>0.0</td>\n",
       "      <td>2</td>\n",
       "      <td>64.000000</td>\n",
       "      <td>0.00</td>\n",
       "      <td>0.10</td>\n",
       "      <td>0.0</td>\n",
       "      <td>0.0</td>\n",
       "      <td>Feb</td>\n",
       "      <td>2</td>\n",
       "      <td>2</td>\n",
       "      <td>1</td>\n",
       "      <td>2</td>\n",
       "      <td>Returning_Visitor</td>\n",
       "      <td>False</td>\n",
       "      <td>False</td>\n",
       "    </tr>\n",
       "    <tr>\n",
       "      <th>2</th>\n",
       "      <td>0</td>\n",
       "      <td>0.0</td>\n",
       "      <td>0</td>\n",
       "      <td>0.0</td>\n",
       "      <td>1</td>\n",
       "      <td>0.000000</td>\n",
       "      <td>0.20</td>\n",
       "      <td>0.20</td>\n",
       "      <td>0.0</td>\n",
       "      <td>0.0</td>\n",
       "      <td>Feb</td>\n",
       "      <td>4</td>\n",
       "      <td>1</td>\n",
       "      <td>9</td>\n",
       "      <td>3</td>\n",
       "      <td>Returning_Visitor</td>\n",
       "      <td>False</td>\n",
       "      <td>False</td>\n",
       "    </tr>\n",
       "    <tr>\n",
       "      <th>3</th>\n",
       "      <td>0</td>\n",
       "      <td>0.0</td>\n",
       "      <td>0</td>\n",
       "      <td>0.0</td>\n",
       "      <td>2</td>\n",
       "      <td>2.666667</td>\n",
       "      <td>0.05</td>\n",
       "      <td>0.14</td>\n",
       "      <td>0.0</td>\n",
       "      <td>0.0</td>\n",
       "      <td>Feb</td>\n",
       "      <td>3</td>\n",
       "      <td>2</td>\n",
       "      <td>2</td>\n",
       "      <td>4</td>\n",
       "      <td>Returning_Visitor</td>\n",
       "      <td>False</td>\n",
       "      <td>False</td>\n",
       "    </tr>\n",
       "    <tr>\n",
       "      <th>4</th>\n",
       "      <td>0</td>\n",
       "      <td>0.0</td>\n",
       "      <td>0</td>\n",
       "      <td>0.0</td>\n",
       "      <td>10</td>\n",
       "      <td>627.500000</td>\n",
       "      <td>0.02</td>\n",
       "      <td>0.05</td>\n",
       "      <td>0.0</td>\n",
       "      <td>0.0</td>\n",
       "      <td>Feb</td>\n",
       "      <td>3</td>\n",
       "      <td>3</td>\n",
       "      <td>1</td>\n",
       "      <td>4</td>\n",
       "      <td>Returning_Visitor</td>\n",
       "      <td>True</td>\n",
       "      <td>False</td>\n",
       "    </tr>\n",
       "  </tbody>\n",
       "</table>\n",
       "</div>"
      ],
      "text/plain": [
       "   Administrative  Administrative_Duration  Informational  \\\n",
       "0               0                      0.0              0   \n",
       "1               0                      0.0              0   \n",
       "2               0                      0.0              0   \n",
       "3               0                      0.0              0   \n",
       "4               0                      0.0              0   \n",
       "\n",
       "   Informational_Duration  ProductRelated  ProductRelated_Duration  \\\n",
       "0                     0.0               1                 0.000000   \n",
       "1                     0.0               2                64.000000   \n",
       "2                     0.0               1                 0.000000   \n",
       "3                     0.0               2                 2.666667   \n",
       "4                     0.0              10               627.500000   \n",
       "\n",
       "   BounceRates  ExitRates  PageValues  SpecialDay Month  OperatingSystems  \\\n",
       "0         0.20       0.20         0.0         0.0   Feb                 1   \n",
       "1         0.00       0.10         0.0         0.0   Feb                 2   \n",
       "2         0.20       0.20         0.0         0.0   Feb                 4   \n",
       "3         0.05       0.14         0.0         0.0   Feb                 3   \n",
       "4         0.02       0.05         0.0         0.0   Feb                 3   \n",
       "\n",
       "   Browser  Region  TrafficType        VisitorType  Weekend  Revenue  \n",
       "0        1       1            1  Returning_Visitor    False    False  \n",
       "1        2       1            2  Returning_Visitor    False    False  \n",
       "2        1       9            3  Returning_Visitor    False    False  \n",
       "3        2       2            4  Returning_Visitor    False    False  \n",
       "4        3       1            4  Returning_Visitor     True    False  "
      ]
     },
     "execution_count": 24,
     "metadata": {},
     "output_type": "execute_result"
    }
   ],
   "source": [
    "data.head()"
   ]
  },
  {
   "cell_type": "code",
   "execution_count": 25,
   "id": "e4caa63d",
   "metadata": {},
   "outputs": [
    {
     "data": {
      "text/plain": [
       "Series([], dtype: int64)"
      ]
     },
     "execution_count": 25,
     "metadata": {},
     "output_type": "execute_result"
    }
   ],
   "source": [
    "data.isnull().sum()[data.isnull().sum() > 0]"
   ]
  },
  {
   "cell_type": "code",
   "execution_count": 26,
   "id": "39073663",
   "metadata": {},
   "outputs": [
    {
     "name": "stdout",
     "output_type": "stream",
     "text": [
      "<class 'pandas.core.frame.DataFrame'>\n",
      "RangeIndex: 12330 entries, 0 to 12329\n",
      "Data columns (total 18 columns):\n",
      " #   Column                   Non-Null Count  Dtype  \n",
      "---  ------                   --------------  -----  \n",
      " 0   Administrative           12330 non-null  int64  \n",
      " 1   Administrative_Duration  12330 non-null  float64\n",
      " 2   Informational            12330 non-null  int64  \n",
      " 3   Informational_Duration   12330 non-null  float64\n",
      " 4   ProductRelated           12330 non-null  int64  \n",
      " 5   ProductRelated_Duration  12330 non-null  float64\n",
      " 6   BounceRates              12330 non-null  float64\n",
      " 7   ExitRates                12330 non-null  float64\n",
      " 8   PageValues               12330 non-null  float64\n",
      " 9   SpecialDay               12330 non-null  float64\n",
      " 10  Month                    12330 non-null  object \n",
      " 11  OperatingSystems         12330 non-null  int64  \n",
      " 12  Browser                  12330 non-null  int64  \n",
      " 13  Region                   12330 non-null  int64  \n",
      " 14  TrafficType              12330 non-null  int64  \n",
      " 15  VisitorType              12330 non-null  object \n",
      " 16  Weekend                  12330 non-null  bool   \n",
      " 17  Revenue                  12330 non-null  bool   \n",
      "dtypes: bool(2), float64(7), int64(7), object(2)\n",
      "memory usage: 1.5+ MB\n"
     ]
    }
   ],
   "source": [
    "data.info()"
   ]
  },
  {
   "cell_type": "code",
   "execution_count": 27,
   "id": "42d2063a",
   "metadata": {},
   "outputs": [],
   "source": [
    "data.Month.replace({'Feb':2, 'Mar':3, 'May':4, 'Oct':5, 'June':6, 'Jul':7, 'Aug':8, 'Nov':11, 'Sep':9,'Dec':10},inplace=True)\n",
    "data.VisitorType.replace({'Returning_Visitor':2, 'New_Visitor':1, 'Other':0},inplace=True)"
   ]
  },
  {
   "cell_type": "code",
   "execution_count": 28,
   "id": "d32e9969",
   "metadata": {},
   "outputs": [
    {
     "data": {
      "text/plain": [
       "Index(['Weekend', 'Revenue'], dtype='object')"
      ]
     },
     "execution_count": 28,
     "metadata": {},
     "output_type": "execute_result"
    }
   ],
   "source": [
    "data.select_dtypes(include='bool').columns"
   ]
  },
  {
   "cell_type": "code",
   "execution_count": 29,
   "id": "f94af642",
   "metadata": {},
   "outputs": [],
   "source": [
    "from sklearn.preprocessing import LabelEncoder\n",
    "le=LabelEncoder()"
   ]
  },
  {
   "cell_type": "code",
   "execution_count": 30,
   "id": "59931143",
   "metadata": {},
   "outputs": [],
   "source": [
    "data.Weekend=le.fit_transform(data.Weekend)\n",
    "data.Revenue=le.fit_transform(data.Revenue)"
   ]
  },
  {
   "cell_type": "code",
   "execution_count": 31,
   "id": "85fe3d54",
   "metadata": {
    "scrolled": true
   },
   "outputs": [
    {
     "data": {
      "text/plain": [
       "Index([], dtype='object')"
      ]
     },
     "execution_count": 31,
     "metadata": {},
     "output_type": "execute_result"
    }
   ],
   "source": [
    "data.select_dtypes(include='object').columns"
   ]
  },
  {
   "cell_type": "markdown",
   "id": "d43bb95f",
   "metadata": {},
   "source": [
    "### Sampling"
   ]
  },
  {
   "cell_type": "code",
   "execution_count": 32,
   "id": "349b3d3e",
   "metadata": {},
   "outputs": [],
   "source": [
    "from sklearn.model_selection import train_test_split\n",
    "\n",
    "data_train, data_test = train_test_split(data, test_size = 0.2)"
   ]
  },
  {
   "cell_type": "code",
   "execution_count": null,
   "id": "b746b1f2",
   "metadata": {},
   "outputs": [],
   "source": []
  },
  {
   "cell_type": "markdown",
   "id": "ce4f223d",
   "metadata": {},
   "source": [
    "### over sampling"
   ]
  },
  {
   "cell_type": "code",
   "execution_count": 33,
   "id": "793a6a4a",
   "metadata": {},
   "outputs": [
    {
     "data": {
      "text/plain": [
       "0    8321\n",
       "1    1543\n",
       "Name: Revenue, dtype: int64"
      ]
     },
     "execution_count": 33,
     "metadata": {},
     "output_type": "execute_result"
    }
   ],
   "source": [
    "data_train.Revenue.value_counts()"
   ]
  },
  {
   "cell_type": "code",
   "execution_count": 34,
   "id": "848db6ab",
   "metadata": {},
   "outputs": [
    {
     "data": {
      "text/plain": [
       "(16036, 18)"
      ]
     },
     "execution_count": 34,
     "metadata": {},
     "output_type": "execute_result"
    }
   ],
   "source": [
    "df1       = data_train[data_train.Revenue  == 1]\n",
    "data_train  = pd.concat([data_train , df1 , df1, df1,df1])\n",
    "data_train.shape"
   ]
  },
  {
   "cell_type": "code",
   "execution_count": 35,
   "id": "e3bb90ca",
   "metadata": {},
   "outputs": [
    {
     "data": {
      "text/plain": [
       "0    8321\n",
       "1    7715\n",
       "Name: Revenue, dtype: int64"
      ]
     },
     "execution_count": 35,
     "metadata": {},
     "output_type": "execute_result"
    }
   ],
   "source": [
    "data_train.Revenue.value_counts()"
   ]
  },
  {
   "cell_type": "code",
   "execution_count": 36,
   "id": "230bb48c",
   "metadata": {},
   "outputs": [],
   "source": [
    "data_train_x = data_train.iloc[: , 0:-1]\n",
    "data_train_y = data_train.iloc[: , -1]\n",
    "\n",
    "data_test_x = data_test.iloc[: , 0:-1]\n",
    "data_test_y = data_test.iloc[: , -1]"
   ]
  },
  {
   "cell_type": "markdown",
   "id": "8e69fc03",
   "metadata": {},
   "source": [
    "## Now we have got our data split into training and test sets ,it's time to build a machine learning models "
   ]
  },
  {
   "cell_type": "markdown",
   "id": "65931c3c",
   "metadata": {},
   "source": [
    "<p><strong>As we working on a classification problem so we are going to try 3 different machine learning models </strong></p>\n",
    "<ul>\n",
    "<li> Logistic Regression</li>\n",
    "\n",
    "<li> Decision Tree </li>\n",
    "\n",
    "<li>  Random Forest Classifier </li>\n",
    " </ul>"
   ]
  },
  {
   "cell_type": "markdown",
   "id": "8d5aed86",
   "metadata": {},
   "source": [
    "## 1.logistic Regression"
   ]
  },
  {
   "cell_type": "code",
   "execution_count": 38,
   "id": "8c69d620",
   "metadata": {},
   "outputs": [
    {
     "data": {
      "text/plain": [
       "array([[1871,  230],\n",
       "       [  88,  277]], dtype=int64)"
      ]
     },
     "execution_count": 38,
     "metadata": {},
     "output_type": "execute_result"
    }
   ],
   "source": [
    "from sklearn.linear_model import LogisticRegression\n",
    "logreg = LogisticRegression()\n",
    "\n",
    "logreg.fit(data_train_x , data_train_y)\n",
    "pred_test  = logreg.predict(data_test_x)\n",
    "\n",
    "mat_test = confusion_matrix(data_test_y , pred_test)\n",
    "mat_test"
   ]
  },
  {
   "cell_type": "code",
   "execution_count": 39,
   "id": "4f150d74",
   "metadata": {},
   "outputs": [
    {
     "data": {
      "text/plain": [
       "0.8710462287104623"
      ]
     },
     "execution_count": 39,
     "metadata": {},
     "output_type": "execute_result"
    }
   ],
   "source": [
    "lg_acc = accuracy_score(data_test_y , pred_test)\n",
    "lg_acc"
   ]
  },
  {
   "cell_type": "code",
   "execution_count": 40,
   "id": "1c98959c",
   "metadata": {},
   "outputs": [
    {
     "name": "stdout",
     "output_type": "stream",
     "text": [
      "              precision    recall  f1-score   support\n",
      "\n",
      "           0       0.96      0.89      0.92      2101\n",
      "           1       0.55      0.76      0.64       365\n",
      "\n",
      "    accuracy                           0.87      2466\n",
      "   macro avg       0.75      0.82      0.78      2466\n",
      "weighted avg       0.89      0.87      0.88      2466\n",
      "\n"
     ]
    }
   ],
   "source": [
    "## classification report of Logistics Regression\n",
    "\n",
    "print(classification_report(data_test_y , pred_test) )"
   ]
  },
  {
   "cell_type": "markdown",
   "id": "714ff094",
   "metadata": {},
   "source": [
    "## 2.Decision Tree"
   ]
  },
  {
   "cell_type": "code",
   "execution_count": 41,
   "id": "ac09880d",
   "metadata": {},
   "outputs": [
    {
     "data": {
      "text/plain": [
       "array([[1921,  180],\n",
       "       [ 167,  198]], dtype=int64)"
      ]
     },
     "execution_count": 41,
     "metadata": {},
     "output_type": "execute_result"
    }
   ],
   "source": [
    "from sklearn.tree import DecisionTreeClassifier\n",
    "dt = DecisionTreeClassifier()\n",
    "\n",
    "dt.fit(data_train_x , data_train_y)\n",
    "pred_test_dt = dt.predict(data_test_x)\n",
    "\n",
    "mat_dt = confusion_matrix(data_test_y , pred_test_dt)\n",
    "mat_dt"
   ]
  },
  {
   "cell_type": "code",
   "execution_count": 42,
   "id": "e997fe1f",
   "metadata": {},
   "outputs": [
    {
     "data": {
      "text/plain": [
       "0.8592862935928629"
      ]
     },
     "execution_count": 42,
     "metadata": {},
     "output_type": "execute_result"
    }
   ],
   "source": [
    "dt_acc = accuracy_score(data_test_y , pred_test_dt)\n",
    "dt_acc"
   ]
  },
  {
   "cell_type": "code",
   "execution_count": 43,
   "id": "d9b32c71",
   "metadata": {},
   "outputs": [
    {
     "name": "stdout",
     "output_type": "stream",
     "text": [
      "              precision    recall  f1-score   support\n",
      "\n",
      "           0       0.92      0.91      0.92      2101\n",
      "           1       0.52      0.54      0.53       365\n",
      "\n",
      "    accuracy                           0.86      2466\n",
      "   macro avg       0.72      0.73      0.73      2466\n",
      "weighted avg       0.86      0.86      0.86      2466\n",
      "\n"
     ]
    }
   ],
   "source": [
    "## classification report of DecisionTree\n",
    "\n",
    "print(classification_report(data_test_y , pred_test_dt) )"
   ]
  },
  {
   "cell_type": "markdown",
   "id": "a6cdb91e",
   "metadata": {},
   "source": [
    "## 3.Random Forest"
   ]
  },
  {
   "cell_type": "code",
   "execution_count": 44,
   "id": "8b5233bc",
   "metadata": {},
   "outputs": [
    {
     "data": {
      "text/plain": [
       "array([[1979,  122],\n",
       "       [ 118,  247]], dtype=int64)"
      ]
     },
     "execution_count": 44,
     "metadata": {},
     "output_type": "execute_result"
    }
   ],
   "source": [
    "from sklearn.ensemble import RandomForestClassifier \n",
    "rfc = RandomForestClassifier()\n",
    "\n",
    "rfc.fit(data_train_x , data_train_y)\n",
    "pred_test_rfc = rfc.predict(data_test_x)\n",
    "\n",
    "mat_rfc = confusion_matrix(data_test_y , pred_test_rfc)\n",
    "mat_rfc"
   ]
  },
  {
   "cell_type": "code",
   "execution_count": 45,
   "id": "2cac2435",
   "metadata": {},
   "outputs": [
    {
     "data": {
      "text/plain": [
       "0.902676399026764"
      ]
     },
     "execution_count": 45,
     "metadata": {},
     "output_type": "execute_result"
    }
   ],
   "source": [
    "rfc_acc = accuracy_score(data_test_y , pred_test_rfc)\n",
    "rfc_acc"
   ]
  },
  {
   "cell_type": "code",
   "execution_count": 46,
   "id": "e9d37b71",
   "metadata": {},
   "outputs": [
    {
     "name": "stdout",
     "output_type": "stream",
     "text": [
      "              precision    recall  f1-score   support\n",
      "\n",
      "           0       0.94      0.94      0.94      2101\n",
      "           1       0.67      0.68      0.67       365\n",
      "\n",
      "    accuracy                           0.90      2466\n",
      "   macro avg       0.81      0.81      0.81      2466\n",
      "weighted avg       0.90      0.90      0.90      2466\n",
      "\n"
     ]
    }
   ],
   "source": [
    "## classification report of RandomForestClassifier\n",
    "\n",
    "print(classification_report(data_test_y , pred_test_rfc) )"
   ]
  },
  {
   "cell_type": "markdown",
   "id": "6022fc7d",
   "metadata": {},
   "source": [
    "## Model Comparison"
   ]
  },
  {
   "cell_type": "code",
   "execution_count": 47,
   "id": "cad51ba1",
   "metadata": {},
   "outputs": [],
   "source": [
    "Models = ('logistic Regression', 'Decision Tree', 'Random Forest')\n",
    "Accuracy = (lg_acc, dt_acc, rfc_acc)"
   ]
  },
  {
   "cell_type": "code",
   "execution_count": 48,
   "id": "65073c33",
   "metadata": {},
   "outputs": [
    {
     "data": {
      "text/html": [
       "<div>\n",
       "<style scoped>\n",
       "    .dataframe tbody tr th:only-of-type {\n",
       "        vertical-align: middle;\n",
       "    }\n",
       "\n",
       "    .dataframe tbody tr th {\n",
       "        vertical-align: top;\n",
       "    }\n",
       "\n",
       "    .dataframe thead th {\n",
       "        text-align: right;\n",
       "    }\n",
       "</style>\n",
       "<table border=\"1\" class=\"dataframe\">\n",
       "  <thead>\n",
       "    <tr style=\"text-align: right;\">\n",
       "      <th></th>\n",
       "      <th>Models</th>\n",
       "      <th>Accuracy</th>\n",
       "    </tr>\n",
       "  </thead>\n",
       "  <tbody>\n",
       "    <tr>\n",
       "      <th>0</th>\n",
       "      <td>logistic Regression</td>\n",
       "      <td>0.871046</td>\n",
       "    </tr>\n",
       "    <tr>\n",
       "      <th>1</th>\n",
       "      <td>Decision Tree</td>\n",
       "      <td>0.859286</td>\n",
       "    </tr>\n",
       "    <tr>\n",
       "      <th>2</th>\n",
       "      <td>Random Forest</td>\n",
       "      <td>0.902676</td>\n",
       "    </tr>\n",
       "  </tbody>\n",
       "</table>\n",
       "</div>"
      ],
      "text/plain": [
       "                Models  Accuracy\n",
       "0  logistic Regression  0.871046\n",
       "1        Decision Tree  0.859286\n",
       "2        Random Forest  0.902676"
      ]
     },
     "execution_count": 48,
     "metadata": {},
     "output_type": "execute_result"
    }
   ],
   "source": [
    "model_compare              = pd.DataFrame()\n",
    "model_compare['Models']    = Models\n",
    "model_compare['Accuracy']  = Accuracy\n",
    "model_compare"
   ]
  },
  {
   "cell_type": "code",
   "execution_count": 49,
   "id": "0f00fa71",
   "metadata": {},
   "outputs": [
    {
     "data": {
      "text/plain": [
       "<matplotlib.legend.Legend at 0x268760c1f70>"
      ]
     },
     "execution_count": 49,
     "metadata": {},
     "output_type": "execute_result"
    },
    {
     "data": {
      "image/png": "[encoded data removed]",
      "text/plain": [
       "<Figure size 432x288 with 1 Axes>"
      ]
     },
     "metadata": {
      "needs_background": "light"
     },
     "output_type": "display_data"
    }
   ],
   "source": [
    "plt.bar(Models, Accuracy , label = 'Accuracy')\n",
    "plt.xlabel(\"Models Names\", size = 12)\n",
    "plt.grid()\n",
    "plt.legend()"
   ]
  },
  {
   "cell_type": "markdown",
   "id": "3b9ce8d8",
   "metadata": {},
   "source": [
    "## we can't able to identify the which model is best from the graph but looking at the model_compare dataframe , the Random Forest Classifier model performing best."
   ]
  },
  {
   "cell_type": "markdown",
   "id": "7a61682d",
   "metadata": {},
   "source": [
    "Let's look at the following\n",
    "\n",
    "<li> Feature Importance </li>\n",
    "<li> Hyperparameter tunning</li>\n",
    "<li> Confusion Matrix </li>\n",
    "<li> Cross-Validation </li>\n",
    "<li> Precision </li>\n",
    "<li> Recall Score </li>\n",
    "<li> F1 Score </li>\n",
    "<li> Classification Report </li>"
   ]
  },
  {
   "cell_type": "markdown",
   "id": "c8376c02",
   "metadata": {},
   "source": [
    "## Feature Selection :\n",
    "\n",
    "Feature selection will help the algorithm use only the features that have highest weight on the impact on the out of the prediction.\n",
    "\n",
    "here we use RFE(Recursive feature elimination) : It helps to find out the sequence of the features which are significant"
   ]
  },
  {
   "cell_type": "markdown",
   "id": "e9655232",
   "metadata": {},
   "source": [
    "### feature selections of the LogisticRegression model"
   ]
  },
  {
   "cell_type": "code",
   "execution_count": 50,
   "id": "07dbf1a7",
   "metadata": {},
   "outputs": [
    {
     "data": {
      "text/plain": [
       "RFE(estimator=LogisticRegression(), n_features_to_select=12)"
      ]
     },
     "execution_count": 50,
     "metadata": {},
     "output_type": "execute_result"
    }
   ],
   "source": [
    "data_x = data.iloc[:, 0:-1]\n",
    "data_y = data.iloc[: , -1]\n",
    "\n",
    "rfe = RFE(logreg, n_features_to_select = 12)\n",
    "\n",
    "rfe.fit(data_x , data_y)"
   ]
  },
  {
   "cell_type": "code",
   "execution_count": 51,
   "id": "a480ce97",
   "metadata": {},
   "outputs": [],
   "source": [
    "rfe_feat_imp = pd.DataFrame()\n",
    "rfe_feat_imp['features'] = data_x.columns\n",
    "rfe_feat_imp['IMP']      = rfe.support_\n",
    "\n",
    "rfe_feat_imp = rfe_feat_imp.sort_values('IMP', ascending = False)\n",
    "\n",
    "## it gives us a variables which are significant \n",
    "l1 = list(rfe_feat_imp.features[0:12]) \n",
    "l1.append('Revenue')\n",
    "data = data.loc[: , l1]"
   ]
  },
  {
   "cell_type": "code",
   "execution_count": 52,
   "id": "bb7e91f5",
   "metadata": {},
   "outputs": [],
   "source": [
    "from sklearn.model_selection import train_test_split\n",
    "data_train, data_test = train_test_split(data, test_size = 0.2)\n",
    "\n",
    "data_train_x = data_train.iloc[: , 0:-1]\n",
    "data_train_y = data_train.iloc[: , -1]\n",
    "\n",
    "data_test_x = data_test.iloc[: , 0:-1]\n",
    "data_test_y = data_test.iloc[: , -1]"
   ]
  },
  {
   "cell_type": "code",
   "execution_count": 53,
   "id": "4d219f83",
   "metadata": {},
   "outputs": [
    {
     "name": "stdout",
     "output_type": "stream",
     "text": [
      "[[2039   38]\n",
      " [ 253  136]]\n",
      "accuracy of the Logistic regression model after feature selection is : 0.8819951338199513\n"
     ]
    }
   ],
   "source": [
    "## Implementing machine learning algorithm after feature selection\n",
    "\n",
    "logreg = LogisticRegression()\n",
    "logreg.fit(data_train_x , data_train_y)\n",
    "pred_test_lg  = logreg.predict(data_test_x)\n",
    "\n",
    "mat_test_lg = confusion_matrix(data_test_y , pred_test_lg)\n",
    "lg_acc = accuracy_score(data_test_y , pred_test_lg)\n",
    "\n",
    "print(mat_test_lg)\n",
    "print(\"accuracy of the Logistic regression model after feature selection is :\", lg_acc)"
   ]
  },
  {
   "cell_type": "code",
   "execution_count": 54,
   "id": "6f058eb6",
   "metadata": {},
   "outputs": [
    {
     "name": "stdout",
     "output_type": "stream",
     "text": [
      "Accuracy of CrossVal: 0.8809812876119144 and 0.003302962303401556\n"
     ]
    }
   ],
   "source": [
    "## Cross Validation for LogisticRegression Model\n",
    "from sklearn.model_selection import cross_val_score\n",
    "\n",
    "## evaluate model\n",
    "scores_lg = cross_val_score(logreg, data_train_x, data_train_y, cv = 7)\n",
    "##Report performance\n",
    "print(\"Accuracy of CrossVal:\", scores_lg.mean() ,'and', scores_lg.std())"
   ]
  },
  {
   "cell_type": "code",
   "execution_count": 55,
   "id": "4bb1fb10",
   "metadata": {},
   "outputs": [
    {
     "name": "stdout",
     "output_type": "stream",
     "text": [
      "              precision    recall  f1-score   support\n",
      "\n",
      "           0       0.89      0.98      0.93      2077\n",
      "           1       0.78      0.35      0.48       389\n",
      "\n",
      "    accuracy                           0.88      2466\n",
      "   macro avg       0.84      0.67      0.71      2466\n",
      "weighted avg       0.87      0.88      0.86      2466\n",
      "\n"
     ]
    }
   ],
   "source": [
    "## classification report of LogisticRegression after Feature selection\n",
    "\n",
    "print(classification_report(data_test_y , pred_test_lg) )"
   ]
  },
  {
   "cell_type": "markdown",
   "id": "0fc5b546",
   "metadata": {},
   "source": [
    "### feature selections of the DecisionTreeClasifier model"
   ]
  },
  {
   "cell_type": "code",
   "execution_count": 56,
   "id": "99b569d1",
   "metadata": {},
   "outputs": [
    {
     "data": {
      "text/plain": [
       "RFE(estimator=DecisionTreeClassifier(), n_features_to_select=12)"
      ]
     },
     "execution_count": 56,
     "metadata": {},
     "output_type": "execute_result"
    }
   ],
   "source": [
    "rfe = RFE(dt, n_features_to_select = 12)\n",
    "\n",
    "data_x = data.iloc[:, 0:-1]\n",
    "data_y = data.iloc[: , -1]\n",
    "\n",
    "rfe.fit(data_x , data_y)"
   ]
  },
  {
   "cell_type": "code",
   "execution_count": 57,
   "id": "cd59059e",
   "metadata": {},
   "outputs": [],
   "source": [
    "rfe_feat_imp = pd.DataFrame()\n",
    "rfe_feat_imp['features'] = data_x.columns\n",
    "rfe_feat_imp['IMP']      = rfe.support_\n",
    "\n",
    "rfe_feat_imp = rfe_feat_imp.sort_values('IMP', ascending = False)\n",
    "\n",
    "## it gives us a variables which are significant \n",
    "l1 = list(rfe_feat_imp.features[0:12]) \n",
    "l1.append('Revenue')\n",
    "data = data.loc[: , l1]"
   ]
  },
  {
   "cell_type": "code",
   "execution_count": 58,
   "id": "38f8f106",
   "metadata": {},
   "outputs": [],
   "source": [
    "from sklearn.model_selection import train_test_split\n",
    "data_train, data_test = train_test_split(data, test_size = 0.2)\n",
    "\n",
    "data_train_x = data_train.iloc[: , 0:-1]\n",
    "data_train_y = data_train.iloc[: , -1]\n",
    "\n",
    "data_test_x = data_test.iloc[: , 0:-1]\n",
    "data_test_y = data_test.iloc[: , -1]"
   ]
  },
  {
   "cell_type": "code",
   "execution_count": 59,
   "id": "77c65193",
   "metadata": {},
   "outputs": [
    {
     "name": "stdout",
     "output_type": "stream",
     "text": [
      "[[1902  181]\n",
      " [ 167  216]]\n",
      "accuracy of the Logistic regression model after feature selection is : 0.8588807785888077\n"
     ]
    }
   ],
   "source": [
    "## Implementing machine learning algorithm after feature selection\n",
    "\n",
    "dt = DecisionTreeClassifier()\n",
    "dt.fit(data_train_x , data_train_y)\n",
    "pred_test_dt  = dt.predict(data_test_x)\n",
    "\n",
    "mat_test_dt = confusion_matrix(data_test_y , pred_test_dt)\n",
    "dt_acc = accuracy_score(data_test_y , pred_test_dt)\n",
    "\n",
    "print(mat_test_dt)\n",
    "print(\"accuracy of the Logistic regression model after feature selection is :\", dt_acc)"
   ]
  },
  {
   "cell_type": "code",
   "execution_count": 60,
   "id": "6c7ee3ec",
   "metadata": {},
   "outputs": [
    {
     "name": "stdout",
     "output_type": "stream",
     "text": [
      "Accuracy of CrossVal: 0.8638493459688512 and 0.007805770401162864\n"
     ]
    }
   ],
   "source": [
    "## Cross Validation for DecisionTree Model\n",
    "from sklearn.model_selection import cross_val_score\n",
    "\n",
    "## evaluate model\n",
    "scores_dt = cross_val_score(dt, data_train_x, data_train_y, cv = 7)\n",
    "##Report performance\n",
    "print(\"Accuracy of CrossVal:\", scores_dt.mean() ,'and', scores_dt.std())"
   ]
  },
  {
   "cell_type": "code",
   "execution_count": 61,
   "id": "e42a9903",
   "metadata": {},
   "outputs": [
    {
     "name": "stdout",
     "output_type": "stream",
     "text": [
      "              precision    recall  f1-score   support\n",
      "\n",
      "           0       0.92      0.91      0.92      2083\n",
      "           1       0.54      0.56      0.55       383\n",
      "\n",
      "    accuracy                           0.86      2466\n",
      "   macro avg       0.73      0.74      0.74      2466\n",
      "weighted avg       0.86      0.86      0.86      2466\n",
      "\n"
     ]
    }
   ],
   "source": [
    "## classification report of DecisionTreeClassifier after Feature selection\n",
    "\n",
    "print(classification_report(data_test_y , pred_test_dt) )"
   ]
  },
  {
   "cell_type": "markdown",
   "id": "f51d05a9",
   "metadata": {},
   "source": [
    "### feature selections of the RandomForestClassifier model"
   ]
  },
  {
   "cell_type": "code",
   "execution_count": 62,
   "id": "29505b8f",
   "metadata": {},
   "outputs": [
    {
     "data": {
      "text/plain": [
       "RFE(estimator=RandomForestClassifier(), n_features_to_select=12)"
      ]
     },
     "execution_count": 62,
     "metadata": {},
     "output_type": "execute_result"
    }
   ],
   "source": [
    "rfe = RFE(rfc, n_features_to_select = 12)\n",
    "\n",
    "data_x = data.iloc[:, 0:-1]\n",
    "data_y = data.iloc[: , -1]\n",
    "\n",
    "rfe.fit(data_x , data_y)"
   ]
  },
  {
   "cell_type": "code",
   "execution_count": 63,
   "id": "32b93fcf",
   "metadata": {},
   "outputs": [],
   "source": [
    "rfe_feat_imp = pd.DataFrame()\n",
    "rfe_feat_imp['features'] = data_x.columns\n",
    "rfe_feat_imp['IMP']      = rfe.support_\n",
    "\n",
    "rfe_feat_imp = rfe_feat_imp.sort_values('IMP', ascending = False)\n",
    "\n",
    "## it gives us a those variables which are significant \n",
    "l1 = list(rfe_feat_imp.features[0:12]) \n",
    "l1.append('Revenue')\n",
    "data = data.loc[: , l1]"
   ]
  },
  {
   "cell_type": "code",
   "execution_count": 64,
   "id": "ca7c8721",
   "metadata": {},
   "outputs": [],
   "source": [
    "from sklearn.model_selection import train_test_split\n",
    "data_train, data_test = train_test_split(data, test_size = 0.2)\n",
    "\n",
    "data_train_x = data_train.iloc[: , 0:-1]\n",
    "data_train_y = data_train.iloc[: , -1]\n",
    "\n",
    "data_test_x = data_test.iloc[: , 0:-1]\n",
    "data_test_y = data_test.iloc[: , -1]"
   ]
  },
  {
   "cell_type": "code",
   "execution_count": 65,
   "id": "281bd502",
   "metadata": {},
   "outputs": [
    {
     "name": "stdout",
     "output_type": "stream",
     "text": [
      "[[2000   85]\n",
      " [ 168  213]]\n",
      "accuracy of the Logistic regression model after feature selection is : 0.897404703974047\n"
     ]
    }
   ],
   "source": [
    "## Implementing machine learning algorithm after feature selection\n",
    "\n",
    "rfc = RandomForestClassifier()\n",
    "rfc.fit(data_train_x , data_train_y)\n",
    "pred_test_rfc  = rfc.predict(data_test_x)\n",
    "\n",
    "mat_test_rfc = confusion_matrix(data_test_y , pred_test_rfc)\n",
    "rfc_acc = accuracy_score(data_test_y , pred_test_rfc)\n",
    "\n",
    "print(mat_test_rfc)\n",
    "print(\"accuracy of the Logistic regression model after feature selection is :\", rfc_acc)"
   ]
  },
  {
   "cell_type": "code",
   "execution_count": 66,
   "id": "9f1d9815",
   "metadata": {},
   "outputs": [
    {
     "name": "stdout",
     "output_type": "stream",
     "text": [
      "Accuracy of CrossVal: 0.8983177330851101 and 0.007084850335490619\n"
     ]
    }
   ],
   "source": [
    "## Cross Validation for RandomForestClassifier Model\n",
    "from sklearn.model_selection import cross_val_score\n",
    "\n",
    "## evaluate model\n",
    "scores_rfc = cross_val_score(rfc, data_train_x, data_train_y, cv = 7)\n",
    "##Report performance\n",
    "print(\"Accuracy of CrossVal:\", scores_rfc.mean() ,'and', scores_rfc.std())"
   ]
  },
  {
   "cell_type": "code",
   "execution_count": 68,
   "id": "424600e0",
   "metadata": {},
   "outputs": [
    {
     "name": "stdout",
     "output_type": "stream",
     "text": [
      "              precision    recall  f1-score   support\n",
      "\n",
      "           0       0.92      0.96      0.94      2085\n",
      "           1       0.71      0.56      0.63       381\n",
      "\n",
      "    accuracy                           0.90      2466\n",
      "   macro avg       0.82      0.76      0.78      2466\n",
      "weighted avg       0.89      0.90      0.89      2466\n",
      "\n"
     ]
    }
   ],
   "source": [
    "## classification report of RandomForestClassifier after Feature selection\n",
    "\n",
    "print(classification_report(data_test_y , pred_test_rfc) )"
   ]
  },
  {
   "cell_type": "markdown",
   "id": "4988e46d",
   "metadata": {},
   "source": [
    "## Hyperparameter Tuning with GridSearchCV \n",
    "\n",
    "It helps in selecting best combinations of hyper parameter\n",
    "\n",
    "Since our RandomForestClassifier model provides the best scores so far, we'll try and improve them again using GridSearchCV ..."
   ]
  },
  {
   "cell_type": "code",
   "execution_count": 69,
   "id": "05ba318b",
   "metadata": {},
   "outputs": [],
   "source": [
    "from sklearn.model_selection import GridSearchCV"
   ]
  },
  {
   "cell_type": "markdown",
   "id": "61598cc8",
   "metadata": {},
   "source": [
    "### hyperparameter tuning for LogisticRegression model"
   ]
  },
  {
   "cell_type": "code",
   "execution_count": 70,
   "id": "dee72a75",
   "metadata": {},
   "outputs": [
    {
     "name": "stdout",
     "output_type": "stream",
     "text": [
      "Fitting 5 folds for each of 300 candidates, totalling 1500 fits\n"
     ]
    },
    {
     "data": {
      "text/plain": [
       "GridSearchCV(cv=5, estimator=LogisticRegression(),\n",
       "             param_grid={'C': array([1.00000000e-04, 1.88739182e-04, 3.56224789e-04, 6.72335754e-04,\n",
       "       1.26896100e-03, 2.39502662e-03, 4.52035366e-03, 8.53167852e-03,\n",
       "       1.61026203e-02, 3.03919538e-02, 5.73615251e-02, 1.08263673e-01,\n",
       "       2.04335972e-01, 3.85662042e-01, 7.27895384e-01, 1.37382380e+00,\n",
       "       2.59294380e+00, 4.89390092e+00, 9.23670857e+00, 1.74332882e+01,\n",
       "       3.29034456e+01, 6.21016942e+01, 1.17210230e+02, 2.21221629e+02,\n",
       "       4.17531894e+02, 7.88046282e+02, 1.48735211e+03, 2.80721620e+03,\n",
       "       5.29831691e+03, 1.00000000e+04]),\n",
       "                         'penalty': ['l1', 'l2'],\n",
       "                         'solver': ['liblinear', 'newton-cg', 'lbfgs', 'sag',\n",
       "                                    'saga']},\n",
       "             verbose=True)"
      ]
     },
     "execution_count": 70,
     "metadata": {},
     "output_type": "execute_result"
    }
   ],
   "source": [
    "## different hyperparameter for LogisticRegression model\n",
    "logreg_grid_search  = {\"C\"        : np.logspace(-4,4,30),\n",
    "                       \"solver\"   : [\"liblinear\",\"newton-cg\", \"lbfgs\", \"sag\", \"saga\"],\n",
    "                       \"penalty\"  : [\"l1\",\"l2\"]}\n",
    "\n",
    "## Setup grid hyperparameter search for LogisticRegression model\n",
    "logreg       = LogisticRegression()\n",
    "gridS_logreg = GridSearchCV(logreg,\n",
    "                    param_grid= logreg_grid_search,\n",
    "                    cv        = 5 ,\n",
    "                    verbose   = True)\n",
    "\n",
    "## Fit grid hyperparameter search model\n",
    "gridS_logreg.fit(data_train_x , data_train_y)"
   ]
  },
  {
   "cell_type": "code",
   "execution_count": 71,
   "id": "28d1042f",
   "metadata": {},
   "outputs": [
    {
     "data": {
      "text/plain": [
       "{'C': 0.008531678524172805, 'penalty': 'l1', 'solver': 'liblinear'}"
      ]
     },
     "execution_count": 71,
     "metadata": {},
     "output_type": "execute_result"
    }
   ],
   "source": [
    "## Check the best hyperparameters\n",
    "gridS_logreg.best_params_"
   ]
  },
  {
   "cell_type": "code",
   "execution_count": 72,
   "id": "98b62597",
   "metadata": {},
   "outputs": [],
   "source": [
    "## Evaluating the grid search LogisticRegression model\n",
    "pred_grid_logreg = gridS_logreg.predict(data_test_x)"
   ]
  },
  {
   "cell_type": "code",
   "execution_count": 73,
   "id": "fb5a72f3",
   "metadata": {},
   "outputs": [
    {
     "data": {
      "text/plain": [
       "array([[2035,   50],\n",
       "       [ 241,  140]], dtype=int64)"
      ]
     },
     "execution_count": 73,
     "metadata": {},
     "output_type": "execute_result"
    }
   ],
   "source": [
    "mat_grid_logreg = confusion_matrix(data_test_y , pred_grid_logreg)\n",
    "mat_grid_logreg"
   ]
  },
  {
   "cell_type": "code",
   "execution_count": 74,
   "id": "f80f0a15",
   "metadata": {},
   "outputs": [
    {
     "data": {
      "text/plain": [
       "0.8819951338199513"
      ]
     },
     "execution_count": 74,
     "metadata": {},
     "output_type": "execute_result"
    }
   ],
   "source": [
    "accuracy_score(data_test_y , pred_grid_logreg)"
   ]
  },
  {
   "cell_type": "code",
   "execution_count": 75,
   "id": "0dd518ef",
   "metadata": {},
   "outputs": [
    {
     "data": {
      "text/plain": [
       "<sklearn.metrics._plot.confusion_matrix.ConfusionMatrixDisplay at 0x26876823af0>"
      ]
     },
     "execution_count": 75,
     "metadata": {},
     "output_type": "execute_result"
    },
    {
     "data": {
      "image/png": "[encoded data removed]",
      "text/plain": [
       "<Figure size 432x288 with 2 Axes>"
      ]
     },
     "metadata": {
      "needs_background": "light"
     },
     "output_type": "display_data"
    }
   ],
   "source": [
    "var1 = ConfusionMatrixDisplay(mat_grid_logreg , display_labels = ['Not_purchase', 'purchase'])\n",
    "var1.plot()"
   ]
  },
  {
   "cell_type": "markdown",
   "id": "03d0edc2",
   "metadata": {},
   "source": [
    "### hyperparameter tuning for DecisionTreeClassifier model"
   ]
  },
  {
   "cell_type": "code",
   "execution_count": 76,
   "id": "591f3191",
   "metadata": {},
   "outputs": [
    {
     "name": "stdout",
     "output_type": "stream",
     "text": [
      "Fitting 5 folds for each of 40 candidates, totalling 200 fits\n"
     ]
    },
    {
     "data": {
      "text/plain": [
       "GridSearchCV(cv=5, estimator=DecisionTreeClassifier(),\n",
       "             param_grid={'criterion': ['gini', 'entropy'],\n",
       "                         'max_depth': range(4, 9),\n",
       "                         'min_samples_split': [2, 3, 4, 5]},\n",
       "             verbose=True)"
      ]
     },
     "execution_count": 76,
     "metadata": {},
     "output_type": "execute_result"
    }
   ],
   "source": [
    "## different hyperparameter for DecisionTreeClassifier model\n",
    "dt_grid_search = {\"criterion\"         : [\"gini\" , \"entropy\"],\n",
    "                  \"max_depth\"         : range(4, 9),\n",
    "                 'min_samples_split':[2,3,4,5]}\n",
    "\n",
    "## Setup grid hyperparameter search for DecisionTreeClassifier model\n",
    "dt       = DecisionTreeClassifier()\n",
    "gridS_dt = GridSearchCV(dt,\n",
    "                    param_grid= dt_grid_search,\n",
    "                    cv        = 5 ,\n",
    "                    verbose   = True)\n",
    "\n",
    "## Fit grid hyperparameter search model\n",
    "gridS_dt.fit(data_train_x , data_train_y)"
   ]
  },
  {
   "cell_type": "code",
   "execution_count": 77,
   "id": "b3b0fad1",
   "metadata": {},
   "outputs": [
    {
     "data": {
      "text/plain": [
       "{'criterion': 'entropy', 'max_depth': 5, 'min_samples_split': 2}"
      ]
     },
     "execution_count": 77,
     "metadata": {},
     "output_type": "execute_result"
    }
   ],
   "source": [
    "## Check the best hyperparameters\n",
    "gridS_dt.best_params_"
   ]
  },
  {
   "cell_type": "code",
   "execution_count": 78,
   "id": "108e1d80",
   "metadata": {},
   "outputs": [],
   "source": [
    "## Evaluating the grid search DecisionTreeClassifier model\n",
    "pred_grid_dt = gridS_dt.predict(data_test_x)"
   ]
  },
  {
   "cell_type": "code",
   "execution_count": 79,
   "id": "2c16b51b",
   "metadata": {},
   "outputs": [
    {
     "data": {
      "text/plain": [
       "array([[2019,   66],\n",
       "       [ 182,  199]], dtype=int64)"
      ]
     },
     "execution_count": 79,
     "metadata": {},
     "output_type": "execute_result"
    }
   ],
   "source": [
    "mat_grid_dt = confusion_matrix(data_test_y , pred_grid_dt)\n",
    "mat_grid_dt"
   ]
  },
  {
   "cell_type": "code",
   "execution_count": 80,
   "id": "070b79d7",
   "metadata": {},
   "outputs": [
    {
     "data": {
      "text/plain": [
       "0.8994322789943228"
      ]
     },
     "execution_count": 80,
     "metadata": {},
     "output_type": "execute_result"
    }
   ],
   "source": [
    "accuracy_score(data_test_y , pred_grid_dt)"
   ]
  },
  {
   "cell_type": "code",
   "execution_count": 81,
   "id": "fecde87c",
   "metadata": {},
   "outputs": [
    {
     "data": {
      "text/plain": [
       "<sklearn.metrics._plot.confusion_matrix.ConfusionMatrixDisplay at 0x2687634bf10>"
      ]
     },
     "execution_count": 81,
     "metadata": {},
     "output_type": "execute_result"
    },
    {
     "data": {
      "image/png": "[encoded data removed]",
      "text/plain": [
       "<Figure size 432x288 with 2 Axes>"
      ]
     },
     "metadata": {
      "needs_background": "light"
     },
     "output_type": "display_data"
    }
   ],
   "source": [
    "var1 = ConfusionMatrixDisplay(mat_grid_dt , display_labels = ['Not_purchase', 'purchase'])\n",
    "var1.plot()"
   ]
  },
  {
   "cell_type": "markdown",
   "id": "7a6189e9",
   "metadata": {},
   "source": [
    "### hyperparameter tuning for RandomForestClassifier model"
   ]
  },
  {
   "cell_type": "code",
   "execution_count": 85,
   "id": "3e59b38e",
   "metadata": {},
   "outputs": [
    {
     "data": {
      "text/plain": [
       "GridSearchCV(estimator=RandomForestClassifier(),\n",
       "             param_grid={'bootstrap': ['False'],\n",
       "                         'criterion': ['gini', 'entropy'],\n",
       "                         'max_depth': range(4, 20), 'max_features': ['sqrt']})"
      ]
     },
     "execution_count": 85,
     "metadata": {},
     "output_type": "execute_result"
    }
   ],
   "source": [
    "## different hyperparameter for RandomForestClassifier model\n",
    "rfc_grid_search = {\"criterion\"        : [\"gini\" , \"entropy\"],\n",
    "                   \"max_depth\"        : range(4, 20),\n",
    "                   \"max_features\"     : [\"sqrt\"],\n",
    "                   \"bootstrap\"        : ['False']}\n",
    "\n",
    "## Setup grid hyperparameter search for RandomForestClassifier model\n",
    "rfc       = RandomForestClassifier()\n",
    "gridS_rfc = GridSearchCV(rfc,\n",
    "                        param_grid= rfc_grid_search)\n",
    "\n",
    "## Fit grid hyperparameter search model\n",
    "gridS_rfc.fit(data_train_x , data_train_y)"
   ]
  },
  {
   "cell_type": "code",
   "execution_count": 86,
   "id": "b7e37502",
   "metadata": {},
   "outputs": [
    {
     "data": {
      "text/plain": [
       "{'bootstrap': 'False',\n",
       " 'criterion': 'entropy',\n",
       " 'max_depth': 7,\n",
       " 'max_features': 'sqrt'}"
      ]
     },
     "execution_count": 86,
     "metadata": {},
     "output_type": "execute_result"
    }
   ],
   "source": [
    "## Check the best hyperparameters\n",
    "gridS_rfc.best_params_"
   ]
  },
  {
   "cell_type": "code",
   "execution_count": 87,
   "id": "38a0ed08",
   "metadata": {},
   "outputs": [],
   "source": [
    "## Evaluating the grid search RandomForestClassifier model\n",
    "pred_grid_rfc = gridS_rfc.predict(data_test_x)"
   ]
  },
  {
   "cell_type": "code",
   "execution_count": 88,
   "id": "0aee5710",
   "metadata": {},
   "outputs": [
    {
     "data": {
      "text/plain": [
       "array([[2023,   62],\n",
       "       [ 169,  212]], dtype=int64)"
      ]
     },
     "execution_count": 88,
     "metadata": {},
     "output_type": "execute_result"
    }
   ],
   "source": [
    "mat_grid_rfc = confusion_matrix(data_test_y , pred_grid_rfc)\n",
    "mat_grid_rfc"
   ]
  },
  {
   "cell_type": "code",
   "execution_count": 89,
   "id": "0af0f091",
   "metadata": {},
   "outputs": [
    {
     "data": {
      "text/plain": [
       "0.9063260340632603"
      ]
     },
     "execution_count": 89,
     "metadata": {},
     "output_type": "execute_result"
    }
   ],
   "source": [
    "accuracy_score(data_test_y , pred_grid_rfc)"
   ]
  },
  {
   "cell_type": "code",
   "execution_count": 90,
   "id": "6fe282f7",
   "metadata": {},
   "outputs": [
    {
     "data": {
      "text/plain": [
       "<sklearn.metrics._plot.confusion_matrix.ConfusionMatrixDisplay at 0x26875f0d4c0>"
      ]
     },
     "execution_count": 90,
     "metadata": {},
     "output_type": "execute_result"
    },
    {
     "data": {
      "image/png": "[encoded data removed]",
      "text/plain": [
       "<Figure size 432x288 with 2 Axes>"
      ]
     },
     "metadata": {
      "needs_background": "light"
     },
     "output_type": "display_data"
    }
   ],
   "source": [
    "var1 = ConfusionMatrixDisplay(mat_grid_rfc , display_labels = ['Not_purchase', 'purchase'])\n",
    "var1.plot()"
   ]
  },
  {
   "cell_type": "markdown",
   "id": "309847a9",
   "metadata": {},
   "source": [
    "In essence, there are 162 occasions where model predicted 0 (Not_purchase) when it should have been 1 (purchase) and 68 occasions where the model predicted 1 (purchase) instead of 0 (Not_purchase)"
   ]
  },
  {
   "cell_type": "markdown",
   "id": "d3ae684f",
   "metadata": {},
   "source": [
    "## Evaluating our tuned machine learning classifier, beyond accuracy\n",
    "\n",
    "\n",
    "<li> Precision </li>\n",
    "<li> Recall Score </li>\n",
    "<li> F1 Score </li>\n",
    "<li> Classification Report </li>"
   ]
  },
  {
   "cell_type": "markdown",
   "id": "34aacd87",
   "metadata": {},
   "source": [
    "### Let's get a classification report after Hyperparameter tuning where in we get precision , recall and f1_score "
   ]
  },
  {
   "cell_type": "code",
   "execution_count": 91,
   "id": "5d3d94b3",
   "metadata": {},
   "outputs": [],
   "source": [
    "from sklearn.metrics import classification_report"
   ]
  },
  {
   "cell_type": "code",
   "execution_count": 83,
   "id": "90597b4c",
   "metadata": {},
   "outputs": [
    {
     "name": "stdout",
     "output_type": "stream",
     "text": [
      "              precision    recall  f1-score   support\n",
      "\n",
      "           0       0.89      0.98      0.93      2085\n",
      "           1       0.74      0.37      0.49       381\n",
      "\n",
      "    accuracy                           0.88      2466\n",
      "   macro avg       0.82      0.67      0.71      2466\n",
      "weighted avg       0.87      0.88      0.86      2466\n",
      "\n"
     ]
    }
   ],
   "source": [
    "## classification report of LogisticRegression\n",
    "\n",
    "print(classification_report(data_test_y , pred_grid_logreg) )"
   ]
  },
  {
   "cell_type": "code",
   "execution_count": 84,
   "id": "173ecce2",
   "metadata": {},
   "outputs": [
    {
     "name": "stdout",
     "output_type": "stream",
     "text": [
      "              precision    recall  f1-score   support\n",
      "\n",
      "           0       0.92      0.97      0.94      2085\n",
      "           1       0.75      0.52      0.62       381\n",
      "\n",
      "    accuracy                           0.90      2466\n",
      "   macro avg       0.83      0.75      0.78      2466\n",
      "weighted avg       0.89      0.90      0.89      2466\n",
      "\n"
     ]
    }
   ],
   "source": [
    "## classification report of DecisionTreeClassifier\n",
    "\n",
    "print(classification_report(data_test_y , pred_grid_dt) )"
   ]
  },
  {
   "cell_type": "code",
   "execution_count": 92,
   "id": "2ed7efe6",
   "metadata": {},
   "outputs": [
    {
     "name": "stdout",
     "output_type": "stream",
     "text": [
      "              precision    recall  f1-score   support\n",
      "\n",
      "           0       0.92      0.97      0.95      2085\n",
      "           1       0.77      0.56      0.65       381\n",
      "\n",
      "    accuracy                           0.91      2466\n",
      "   macro avg       0.85      0.76      0.80      2466\n",
      "weighted avg       0.90      0.91      0.90      2466\n",
      "\n"
     ]
    }
   ],
   "source": [
    "## classification report of RandomForestClassifier\n",
    "\n",
    "print(classification_report(data_test_y , pred_grid_rfc) )"
   ]
  },
  {
   "cell_type": "markdown",
   "id": "ad5c0976",
   "metadata": {},
   "source": [
    "## Conclusion :\n",
    " \n",
    "<li>Here we can conclude that Random Forest Model is the best suited model for this data.</li>\n",
    "    \n",
    "<li>Before feature selection having accuracy = 90, recall_score= 68, precision = 67, F1_score = 67 . </li>\n",
    "<li> and after feature selection having accuracy = 89.74, recall_score= 56 , precision = 71 , F1_score = 63 .</li>\n",
    " <li> and the accuracy after Hyperparameter tuning accuracy = 90.63, recall_score= 56 , precision = 77, F1_score = 65 .</li>\n",
    "<li> Highest Accuracy achieved : 90.63% using Random Forest "
   ]
  },
  {
   "cell_type": "code",
   "execution_count": null,
   "id": "97fb57ba",
   "metadata": {},
   "outputs": [],
   "source": []
  },
  {
   "cell_type": "code",
   "execution_count": null,
   "id": "3eb3affc",
   "metadata": {},
   "outputs": [],
   "source": []
  }
 ],
 "metadata": {
  "kernelspec": {
   "display_name": "Python 3 (ipykernel)",
   "language": "python",
   "name": "python3"
  },
  "language_info": {
   "codemirror_mode": {
    "name": "ipython",
    "version": 3
   },
   "file_extension": ".py",
   "mimetype": "text/x-python",
   "name": "python",
   "nbconvert_exporter": "python",
   "pygments_lexer": "ipython3",
   "version": "3.9.12"
  }
 },
 "nbformat": 4,
 "nbformat_minor": 5
}
